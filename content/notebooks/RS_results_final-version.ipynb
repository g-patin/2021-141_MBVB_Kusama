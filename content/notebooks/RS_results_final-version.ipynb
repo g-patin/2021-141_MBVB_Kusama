{
 "cells": [
  {
   "cell_type": "code",
   "execution_count": 1,
   "id": "4cb33ebd-2155-466f-9431-5b74b33c6890",
   "metadata": {},
   "outputs": [],
   "source": [
    "import numpy as np\n",
    "import matplotlib.pyplot as plt\n",
    "from glob import glob\n",
    "import pandas as pd\n",
    "from sklearn.metrics import pairwise_distances\n",
    "import nbformat\n",
    "\n",
    "import plotly.express as px"
   ]
  },
  {
   "cell_type": "code",
   "execution_count": 2,
   "id": "9976fa85-8b8a-40eb-87ef-672d5156a52b",
   "metadata": {},
   "outputs": [
    {
     "name": "stdout",
     "output_type": "stream",
     "text": [
      "/home/gus/Documents/RCE/projects/2021-141_SdG_MBVB-Kusama/data/processed/RS\n"
     ]
    }
   ],
   "source": [
    "cd /home/gus/Documents/RCE/projects/2021-141_SdG_MBVB-Kusama/data/processed/RS"
   ]
  },
  {
   "cell_type": "code",
   "execution_count": 3,
   "id": "9e92d42f-80ca-41fa-a668-d6284c94951e",
   "metadata": {},
   "outputs": [],
   "source": [
    "plt.rcParams.update({\n",
    "    \"text.usetex\": True,\n",
    "    \"font.family\": \"sans-serif\",\n",
    "    \"font.sans-serif\": \"Helvetica\",\n",
    "})"
   ]
  },
  {
   "cell_type": "markdown",
   "id": "86232e6a",
   "metadata": {},
   "source": [
    "# Groups - Summary table"
   ]
  },
  {
   "cell_type": "code",
   "execution_count": 5,
   "id": "c2077ce4",
   "metadata": {
    "jupyter": {
     "source_hidden": true
    },
    "scrolled": true,
    "tags": []
   },
   "outputs": [
    {
     "data": {
      "text/html": [
       "<div>\n",
       "<style scoped>\n",
       "    .dataframe tbody tr th:only-of-type {\n",
       "        vertical-align: middle;\n",
       "    }\n",
       "\n",
       "    .dataframe tbody tr th {\n",
       "        vertical-align: top;\n",
       "    }\n",
       "\n",
       "    .dataframe thead th {\n",
       "        text-align: right;\n",
       "    }\n",
       "</style>\n",
       "<table border=\"1\" class=\"dataframe\">\n",
       "  <thead>\n",
       "    <tr style=\"text-align: right;\">\n",
       "      <th></th>\n",
       "      <th>patroons</th>\n",
       "      <th>spectra</th>\n",
       "      <th>colour</th>\n",
       "    </tr>\n",
       "    <tr>\n",
       "      <th>groups</th>\n",
       "      <th></th>\n",
       "      <th></th>\n",
       "      <th></th>\n",
       "    </tr>\n",
       "  </thead>\n",
       "  <tbody>\n",
       "    <tr>\n",
       "      <th>02</th>\n",
       "      <td>7a</td>\n",
       "      <td>A</td>\n",
       "      <td>red</td>\n",
       "    </tr>\n",
       "    <tr>\n",
       "      <th>15</th>\n",
       "      <td>8b</td>\n",
       "      <td>A</td>\n",
       "      <td>red</td>\n",
       "    </tr>\n",
       "    <tr>\n",
       "      <th>16</th>\n",
       "      <td>8b</td>\n",
       "      <td>A</td>\n",
       "      <td>red</td>\n",
       "    </tr>\n",
       "    <tr>\n",
       "      <th>03</th>\n",
       "      <td>2</td>\n",
       "      <td>B</td>\n",
       "      <td>red</td>\n",
       "    </tr>\n",
       "    <tr>\n",
       "      <th>05</th>\n",
       "      <td>2</td>\n",
       "      <td>B</td>\n",
       "      <td>red</td>\n",
       "    </tr>\n",
       "    <tr>\n",
       "      <th>07</th>\n",
       "      <td>2</td>\n",
       "      <td>B</td>\n",
       "      <td>red</td>\n",
       "    </tr>\n",
       "    <tr>\n",
       "      <th>09</th>\n",
       "      <td>3</td>\n",
       "      <td>C</td>\n",
       "      <td>red</td>\n",
       "    </tr>\n",
       "    <tr>\n",
       "      <th>11</th>\n",
       "      <td>3</td>\n",
       "      <td>C</td>\n",
       "      <td>red</td>\n",
       "    </tr>\n",
       "    <tr>\n",
       "      <th>01</th>\n",
       "      <td>4</td>\n",
       "      <td>D</td>\n",
       "      <td>red</td>\n",
       "    </tr>\n",
       "    <tr>\n",
       "      <th>13</th>\n",
       "      <td>4</td>\n",
       "      <td>D</td>\n",
       "      <td>red</td>\n",
       "    </tr>\n",
       "    <tr>\n",
       "      <th>14</th>\n",
       "      <td>4</td>\n",
       "      <td>D</td>\n",
       "      <td>red</td>\n",
       "    </tr>\n",
       "    <tr>\n",
       "      <th>04</th>\n",
       "      <td>2</td>\n",
       "      <td>B</td>\n",
       "      <td>white</td>\n",
       "    </tr>\n",
       "    <tr>\n",
       "      <th>06</th>\n",
       "      <td>2</td>\n",
       "      <td>B</td>\n",
       "      <td>white</td>\n",
       "    </tr>\n",
       "    <tr>\n",
       "      <th>08</th>\n",
       "      <td>2</td>\n",
       "      <td>B</td>\n",
       "      <td>white</td>\n",
       "    </tr>\n",
       "    <tr>\n",
       "      <th>10</th>\n",
       "      <td>3</td>\n",
       "      <td>C</td>\n",
       "      <td>white</td>\n",
       "    </tr>\n",
       "    <tr>\n",
       "      <th>12</th>\n",
       "      <td>3</td>\n",
       "      <td>C</td>\n",
       "      <td>white</td>\n",
       "    </tr>\n",
       "  </tbody>\n",
       "</table>\n",
       "</div>"
      ],
      "text/plain": [
       "       patroons spectra colour\n",
       "groups                        \n",
       "02           7a       A    red\n",
       "15           8b       A    red\n",
       "16           8b       A    red\n",
       "03            2       B    red\n",
       "05            2       B    red\n",
       "07            2       B    red\n",
       "09            3       C    red\n",
       "11            3       C    red\n",
       "01            4       D    red\n",
       "13            4       D    red\n",
       "14            4       D    red\n",
       "04            2       B  white\n",
       "06            2       B  white\n",
       "08            2       B  white\n",
       "10            3       C  white\n",
       "12            3       C  white"
      ]
     },
     "execution_count": 5,
     "metadata": {},
     "output_type": "execute_result"
    }
   ],
   "source": [
    "dic_spec = {'1':'D','2':'B','3':'C','4':'D','5':'B','6':'C','7a':'A','7b':'A','7c':'A','8a':'A','8b':'A'}\n",
    "files = sorted(glob('*txt*'))\n",
    "\n",
    "groups = [pd.read_csv(file, index_col='parameter').loc['group']['value_mean'][-2:] for file in files]\n",
    "patroons = [pd.read_csv(file, index_col='parameter').loc['comments']['value_mean'].split('_')[0][7:] for file in files]\n",
    "colours = [pd.read_csv(file, index_col='parameter').loc['color']['value_mean'] for file in files]\n",
    "\n",
    "df_groups = pd.DataFrame(data={'groups':groups, 'patroons':patroons, 'spectra':[dic_spec[patroon] for patroon in patroons], 'colour': colours}).set_index('groups')\n",
    "df_groups.sort_values(by=['colour','spectra'])"
   ]
  },
  {
   "cell_type": "markdown",
   "id": "9a6a98f6-b4b9-44fc-a1d5-3573e676894f",
   "metadata": {},
   "source": [
    "# Spectra \n",
    "## Plots"
   ]
  },
  {
   "cell_type": "code",
   "execution_count": 12,
   "id": "dd6f071c-0314-4a2e-8c75-a70bb0513e37",
   "metadata": {
    "jupyter": {
     "source_hidden": true
    },
    "tags": []
   },
   "outputs": [
    {
     "data": {
      "application/vnd.plotly.v1+json": {
       "config": {
        "plotlyServerURL": "https://plot.ly"
       },
       "data": [
        {
         "hovertemplate": "groups=01<br>wl=%{x}<br>sp=%{y}<extra></extra>",
         "legendgroup": "01",
         "line": {
          "color": "#636efa",
          "dash": "solid"
         },
         "marker": {
          "symbol": "circle"
         },
         "mode": "lines",
         "name": "01",
         "orientation": "v",
         "showlegend": true,
         "type": "scatter",
         "x": [
          400,
          410,
          420,
          430,
          440,
          450,
          460,
          470,
          480,
          490,
          500,
          510,
          520,
          530,
          540,
          550,
          560,
          570,
          580,
          590,
          600,
          610,
          620,
          630,
          640,
          650,
          660,
          670,
          680,
          690,
          700,
          710,
          720,
          730,
          740
         ],
         "xaxis": "x",
         "y": [
          0.0488,
          0.0583,
          0.0659,
          0.0702,
          0.0674,
          0.0584,
          0.0486,
          0.0405,
          0.0354,
          0.0324,
          0.0305,
          0.0294,
          0.0304,
          0.0326,
          0.0358,
          0.0404,
          0.0506,
          0.0716,
          0.1181,
          0.2014,
          0.3153,
          0.4395,
          0.5314,
          0.5851,
          0.6138,
          0.6341,
          0.6533,
          0.6689,
          0.6836,
          0.6952,
          0.7036,
          0.7088,
          0.712,
          0.7146,
          0.7159
         ],
         "yaxis": "y"
        },
        {
         "hovertemplate": "groups=02<br>wl=%{x}<br>sp=%{y}<extra></extra>",
         "legendgroup": "02",
         "line": {
          "color": "#EF553B",
          "dash": "solid"
         },
         "marker": {
          "symbol": "circle"
         },
         "mode": "lines",
         "name": "02",
         "orientation": "v",
         "showlegend": true,
         "type": "scatter",
         "visible": true,
         "x": [
          400,
          410,
          420,
          430,
          440,
          450,
          460,
          470,
          480,
          490,
          500,
          510,
          520,
          530,
          540,
          550,
          560,
          570,
          580,
          590,
          600,
          610,
          620,
          630,
          640,
          650,
          660,
          670,
          680,
          690,
          700,
          710,
          720,
          730,
          740
         ],
         "xaxis": "x",
         "y": [
          0.045,
          0.0445,
          0.043,
          0.0427,
          0.043,
          0.0419,
          0.0401,
          0.0377,
          0.0362,
          0.0352,
          0.0342,
          0.0329,
          0.0329,
          0.0336,
          0.0339,
          0.0333,
          0.0337,
          0.0354,
          0.0473,
          0.0961,
          0.2117,
          0.3702,
          0.4985,
          0.5708,
          0.6043,
          0.6197,
          0.6305,
          0.6363,
          0.6429,
          0.6488,
          0.6536,
          0.6563,
          0.658,
          0.6604,
          0.6615
         ],
         "yaxis": "y"
        },
        {
         "hovertemplate": "groups=03<br>wl=%{x}<br>sp=%{y}<extra></extra>",
         "legendgroup": "03",
         "line": {
          "color": "#00cc96",
          "dash": "solid"
         },
         "marker": {
          "symbol": "circle"
         },
         "mode": "lines",
         "name": "03",
         "orientation": "v",
         "showlegend": true,
         "type": "scatter",
         "visible": true,
         "x": [
          400,
          410,
          420,
          430,
          440,
          450,
          460,
          470,
          480,
          490,
          500,
          510,
          520,
          530,
          540,
          550,
          560,
          570,
          580,
          590,
          600,
          610,
          620,
          630,
          640,
          650,
          660,
          670,
          680,
          690,
          700,
          710,
          720,
          730,
          740
         ],
         "xaxis": "x",
         "y": [
          0.0322,
          0.037,
          0.0401,
          0.0427,
          0.0431,
          0.0399,
          0.0348,
          0.0303,
          0.0272,
          0.0253,
          0.0243,
          0.0236,
          0.0244,
          0.0259,
          0.028,
          0.0314,
          0.0399,
          0.056,
          0.0884,
          0.1444,
          0.2234,
          0.3219,
          0.4077,
          0.4677,
          0.5079,
          0.5392,
          0.5759,
          0.6139,
          0.6551,
          0.6902,
          0.7166,
          0.7341,
          0.745,
          0.7538,
          0.7591
         ],
         "yaxis": "y"
        },
        {
         "hovertemplate": "groups=05<br>wl=%{x}<br>sp=%{y}<extra></extra>",
         "legendgroup": "05",
         "line": {
          "color": "#ab63fa",
          "dash": "solid"
         },
         "marker": {
          "symbol": "circle"
         },
         "mode": "lines",
         "name": "05",
         "orientation": "v",
         "showlegend": true,
         "type": "scatter",
         "visible": true,
         "x": [
          400,
          410,
          420,
          430,
          440,
          450,
          460,
          470,
          480,
          490,
          500,
          510,
          520,
          530,
          540,
          550,
          560,
          570,
          580,
          590,
          600,
          610,
          620,
          630,
          640,
          650,
          660,
          670,
          680,
          690,
          700,
          710,
          720,
          730,
          740
         ],
         "xaxis": "x",
         "y": [
          0.0269,
          0.0312,
          0.0338,
          0.036,
          0.0363,
          0.0332,
          0.0286,
          0.0248,
          0.0223,
          0.0209,
          0.0202,
          0.0197,
          0.0205,
          0.0219,
          0.0236,
          0.026,
          0.0327,
          0.0457,
          0.0732,
          0.1252,
          0.2042,
          0.3065,
          0.399,
          0.4627,
          0.5022,
          0.5295,
          0.5621,
          0.596,
          0.6337,
          0.6654,
          0.6881,
          0.7027,
          0.7107,
          0.7165,
          0.7188
         ],
         "yaxis": "y"
        },
        {
         "hovertemplate": "groups=07<br>wl=%{x}<br>sp=%{y}<extra></extra>",
         "legendgroup": "07",
         "line": {
          "color": "#FFA15A",
          "dash": "solid"
         },
         "marker": {
          "symbol": "circle"
         },
         "mode": "lines",
         "name": "07",
         "orientation": "v",
         "showlegend": true,
         "type": "scatter",
         "visible": true,
         "x": [
          400,
          410,
          420,
          430,
          440,
          450,
          460,
          470,
          480,
          490,
          500,
          510,
          520,
          530,
          540,
          550,
          560,
          570,
          580,
          590,
          600,
          610,
          620,
          630,
          640,
          650,
          660,
          670,
          680,
          690,
          700,
          710,
          720,
          730,
          740
         ],
         "xaxis": "x",
         "y": [
          0.033,
          0.0379,
          0.0414,
          0.044,
          0.0444,
          0.0409,
          0.0355,
          0.0308,
          0.0275,
          0.0256,
          0.0245,
          0.0237,
          0.0246,
          0.0262,
          0.0286,
          0.0321,
          0.0409,
          0.0579,
          0.0917,
          0.1499,
          0.2324,
          0.334,
          0.4224,
          0.4836,
          0.5241,
          0.5545,
          0.5912,
          0.6282,
          0.6686,
          0.7021,
          0.7276,
          0.7434,
          0.753,
          0.7612,
          0.766
         ],
         "yaxis": "y"
        },
        {
         "hovertemplate": "groups=09<br>wl=%{x}<br>sp=%{y}<extra></extra>",
         "legendgroup": "09",
         "line": {
          "color": "#19d3f3",
          "dash": "solid"
         },
         "marker": {
          "symbol": "circle"
         },
         "mode": "lines",
         "name": "09",
         "orientation": "v",
         "showlegend": true,
         "type": "scatter",
         "visible": true,
         "x": [
          400,
          410,
          420,
          430,
          440,
          450,
          460,
          470,
          480,
          490,
          500,
          510,
          520,
          530,
          540,
          550,
          560,
          570,
          580,
          590,
          600,
          610,
          620,
          630,
          640,
          650,
          660,
          670,
          680,
          690,
          700,
          710,
          720,
          730,
          740
         ],
         "xaxis": "x",
         "y": [
          0.0308,
          0.0323,
          0.0314,
          0.0315,
          0.0322,
          0.0315,
          0.0295,
          0.0269,
          0.0246,
          0.0228,
          0.0211,
          0.0195,
          0.0197,
          0.0203,
          0.0204,
          0.0204,
          0.0236,
          0.0342,
          0.0666,
          0.1302,
          0.2129,
          0.3061,
          0.3931,
          0.472,
          0.5403,
          0.595,
          0.6448,
          0.682,
          0.7111,
          0.7302,
          0.7422,
          0.7492,
          0.7532,
          0.7576,
          0.7603
         ],
         "yaxis": "y"
        },
        {
         "hovertemplate": "groups=11<br>wl=%{x}<br>sp=%{y}<extra></extra>",
         "legendgroup": "11",
         "line": {
          "color": "#FF6692",
          "dash": "solid"
         },
         "marker": {
          "symbol": "circle"
         },
         "mode": "lines",
         "name": "11",
         "orientation": "v",
         "showlegend": true,
         "type": "scatter",
         "visible": true,
         "x": [
          400,
          410,
          420,
          430,
          440,
          450,
          460,
          470,
          480,
          490,
          500,
          510,
          520,
          530,
          540,
          550,
          560,
          570,
          580,
          590,
          600,
          610,
          620,
          630,
          640,
          650,
          660,
          670,
          680,
          690,
          700,
          710,
          720,
          730,
          740
         ],
         "xaxis": "x",
         "y": [
          0.0305,
          0.032,
          0.0311,
          0.0313,
          0.0319,
          0.0311,
          0.0292,
          0.0267,
          0.0243,
          0.0227,
          0.0211,
          0.0196,
          0.0197,
          0.0204,
          0.0205,
          0.0204,
          0.0235,
          0.0335,
          0.065,
          0.1264,
          0.2077,
          0.301,
          0.3886,
          0.4694,
          0.5399,
          0.5966,
          0.6491,
          0.6884,
          0.7193,
          0.7398,
          0.7524,
          0.7597,
          0.7638,
          0.769,
          0.7716
         ],
         "yaxis": "y"
        },
        {
         "hovertemplate": "groups=13<br>wl=%{x}<br>sp=%{y}<extra></extra>",
         "legendgroup": "13",
         "line": {
          "color": "#B6E880",
          "dash": "solid"
         },
         "marker": {
          "symbol": "circle"
         },
         "mode": "lines",
         "name": "13",
         "orientation": "v",
         "showlegend": true,
         "type": "scatter",
         "visible": true,
         "x": [
          400,
          410,
          420,
          430,
          440,
          450,
          460,
          470,
          480,
          490,
          500,
          510,
          520,
          530,
          540,
          550,
          560,
          570,
          580,
          590,
          600,
          610,
          620,
          630,
          640,
          650,
          660,
          670,
          680,
          690,
          700,
          710,
          720,
          730,
          740
         ],
         "xaxis": "x",
         "y": [
          0.0484,
          0.0578,
          0.0652,
          0.0694,
          0.0665,
          0.0573,
          0.0474,
          0.0396,
          0.0343,
          0.0312,
          0.0294,
          0.0282,
          0.0292,
          0.0314,
          0.0347,
          0.0392,
          0.0491,
          0.07,
          0.1165,
          0.1993,
          0.3128,
          0.4403,
          0.5344,
          0.5892,
          0.6202,
          0.6394,
          0.6589,
          0.6735,
          0.6887,
          0.7002,
          0.7078,
          0.7122,
          0.714,
          0.7172,
          0.7192
         ],
         "yaxis": "y"
        },
        {
         "hovertemplate": "groups=14<br>wl=%{x}<br>sp=%{y}<extra></extra>",
         "legendgroup": "14",
         "line": {
          "color": "#FF97FF",
          "dash": "solid"
         },
         "marker": {
          "symbol": "circle"
         },
         "mode": "lines",
         "name": "14",
         "orientation": "v",
         "showlegend": true,
         "type": "scatter",
         "visible": true,
         "x": [
          400,
          410,
          420,
          430,
          440,
          450,
          460,
          470,
          480,
          490,
          500,
          510,
          520,
          530,
          540,
          550,
          560,
          570,
          580,
          590,
          600,
          610,
          620,
          630,
          640,
          650,
          660,
          670,
          680,
          690,
          700,
          710,
          720,
          730,
          740
         ],
         "xaxis": "x",
         "y": [
          0.0484,
          0.0576,
          0.0648,
          0.0689,
          0.0659,
          0.057,
          0.0472,
          0.0395,
          0.0342,
          0.0312,
          0.0294,
          0.0283,
          0.0293,
          0.0316,
          0.035,
          0.0396,
          0.0499,
          0.0712,
          0.1184,
          0.2017,
          0.3142,
          0.4379,
          0.5274,
          0.5786,
          0.608,
          0.626,
          0.6445,
          0.658,
          0.6723,
          0.6831,
          0.6903,
          0.6947,
          0.6968,
          0.6999,
          0.7014
         ],
         "yaxis": "y"
        },
        {
         "hovertemplate": "groups=15<br>wl=%{x}<br>sp=%{y}<extra></extra>",
         "legendgroup": "15",
         "line": {
          "color": "#FECB52",
          "dash": "solid"
         },
         "marker": {
          "symbol": "circle"
         },
         "mode": "lines",
         "name": "15",
         "orientation": "v",
         "showlegend": true,
         "type": "scatter",
         "visible": true,
         "x": [
          400,
          410,
          420,
          430,
          440,
          450,
          460,
          470,
          480,
          490,
          500,
          510,
          520,
          530,
          540,
          550,
          560,
          570,
          580,
          590,
          600,
          610,
          620,
          630,
          640,
          650,
          660,
          670,
          680,
          690,
          700,
          710,
          720,
          730,
          740
         ],
         "xaxis": "x",
         "y": [
          0.0562,
          0.0558,
          0.0544,
          0.0543,
          0.0546,
          0.0533,
          0.0509,
          0.048,
          0.0456,
          0.0439,
          0.0428,
          0.041,
          0.0408,
          0.0416,
          0.0422,
          0.0416,
          0.0418,
          0.0437,
          0.0582,
          0.1085,
          0.2222,
          0.3814,
          0.5051,
          0.5739,
          0.6088,
          0.6241,
          0.6362,
          0.6434,
          0.6517,
          0.6592,
          0.665,
          0.6692,
          0.672,
          0.6764,
          0.6794
         ],
         "yaxis": "y"
        },
        {
         "hovertemplate": "groups=16<br>wl=%{x}<br>sp=%{y}<extra></extra>",
         "legendgroup": "16",
         "line": {
          "color": "#636efa",
          "dash": "solid"
         },
         "marker": {
          "symbol": "circle"
         },
         "mode": "lines",
         "name": "16",
         "orientation": "v",
         "showlegend": true,
         "type": "scatter",
         "visible": true,
         "x": [
          400,
          410,
          420,
          430,
          440,
          450,
          460,
          470,
          480,
          490,
          500,
          510,
          520,
          530,
          540,
          550,
          560,
          570,
          580,
          590,
          600,
          610,
          620,
          630,
          640,
          650,
          660,
          670,
          680,
          690,
          700,
          710,
          720,
          730,
          740
         ],
         "xaxis": "x",
         "y": [
          0.0577,
          0.0574,
          0.0557,
          0.0555,
          0.0558,
          0.0544,
          0.0521,
          0.0491,
          0.0465,
          0.0449,
          0.0437,
          0.042,
          0.0417,
          0.0424,
          0.043,
          0.0425,
          0.0425,
          0.0445,
          0.0587,
          0.1094,
          0.2232,
          0.3859,
          0.5148,
          0.5878,
          0.625,
          0.6419,
          0.6545,
          0.6622,
          0.6708,
          0.6789,
          0.6851,
          0.6898,
          0.693,
          0.6972,
          0.7005
         ],
         "yaxis": "y"
        }
       ],
       "layout": {
        "autosize": false,
        "font": {
         "color": "Black",
         "family": "Droid Serif",
         "size": 22
        },
        "height": 600,
        "legend": {
         "title": {
          "text": "Groups"
         },
         "tracegroupgap": 0
        },
        "margin": {
         "t": 60
        },
        "template": {
         "data": {
          "bar": [
           {
            "error_x": {
             "color": "#2a3f5f"
            },
            "error_y": {
             "color": "#2a3f5f"
            },
            "marker": {
             "line": {
              "color": "#E5ECF6",
              "width": 0.5
             },
             "pattern": {
              "fillmode": "overlay",
              "size": 10,
              "solidity": 0.2
             }
            },
            "type": "bar"
           }
          ],
          "barpolar": [
           {
            "marker": {
             "line": {
              "color": "#E5ECF6",
              "width": 0.5
             },
             "pattern": {
              "fillmode": "overlay",
              "size": 10,
              "solidity": 0.2
             }
            },
            "type": "barpolar"
           }
          ],
          "carpet": [
           {
            "aaxis": {
             "endlinecolor": "#2a3f5f",
             "gridcolor": "white",
             "linecolor": "white",
             "minorgridcolor": "white",
             "startlinecolor": "#2a3f5f"
            },
            "baxis": {
             "endlinecolor": "#2a3f5f",
             "gridcolor": "white",
             "linecolor": "white",
             "minorgridcolor": "white",
             "startlinecolor": "#2a3f5f"
            },
            "type": "carpet"
           }
          ],
          "choropleth": [
           {
            "colorbar": {
             "outlinewidth": 0,
             "ticks": ""
            },
            "type": "choropleth"
           }
          ],
          "contour": [
           {
            "colorbar": {
             "outlinewidth": 0,
             "ticks": ""
            },
            "colorscale": [
             [
              0,
              "#0d0887"
             ],
             [
              0.1111111111111111,
              "#46039f"
             ],
             [
              0.2222222222222222,
              "#7201a8"
             ],
             [
              0.3333333333333333,
              "#9c179e"
             ],
             [
              0.4444444444444444,
              "#bd3786"
             ],
             [
              0.5555555555555556,
              "#d8576b"
             ],
             [
              0.6666666666666666,
              "#ed7953"
             ],
             [
              0.7777777777777778,
              "#fb9f3a"
             ],
             [
              0.8888888888888888,
              "#fdca26"
             ],
             [
              1,
              "#f0f921"
             ]
            ],
            "type": "contour"
           }
          ],
          "contourcarpet": [
           {
            "colorbar": {
             "outlinewidth": 0,
             "ticks": ""
            },
            "type": "contourcarpet"
           }
          ],
          "heatmap": [
           {
            "colorbar": {
             "outlinewidth": 0,
             "ticks": ""
            },
            "colorscale": [
             [
              0,
              "#0d0887"
             ],
             [
              0.1111111111111111,
              "#46039f"
             ],
             [
              0.2222222222222222,
              "#7201a8"
             ],
             [
              0.3333333333333333,
              "#9c179e"
             ],
             [
              0.4444444444444444,
              "#bd3786"
             ],
             [
              0.5555555555555556,
              "#d8576b"
             ],
             [
              0.6666666666666666,
              "#ed7953"
             ],
             [
              0.7777777777777778,
              "#fb9f3a"
             ],
             [
              0.8888888888888888,
              "#fdca26"
             ],
             [
              1,
              "#f0f921"
             ]
            ],
            "type": "heatmap"
           }
          ],
          "heatmapgl": [
           {
            "colorbar": {
             "outlinewidth": 0,
             "ticks": ""
            },
            "colorscale": [
             [
              0,
              "#0d0887"
             ],
             [
              0.1111111111111111,
              "#46039f"
             ],
             [
              0.2222222222222222,
              "#7201a8"
             ],
             [
              0.3333333333333333,
              "#9c179e"
             ],
             [
              0.4444444444444444,
              "#bd3786"
             ],
             [
              0.5555555555555556,
              "#d8576b"
             ],
             [
              0.6666666666666666,
              "#ed7953"
             ],
             [
              0.7777777777777778,
              "#fb9f3a"
             ],
             [
              0.8888888888888888,
              "#fdca26"
             ],
             [
              1,
              "#f0f921"
             ]
            ],
            "type": "heatmapgl"
           }
          ],
          "histogram": [
           {
            "marker": {
             "pattern": {
              "fillmode": "overlay",
              "size": 10,
              "solidity": 0.2
             }
            },
            "type": "histogram"
           }
          ],
          "histogram2d": [
           {
            "colorbar": {
             "outlinewidth": 0,
             "ticks": ""
            },
            "colorscale": [
             [
              0,
              "#0d0887"
             ],
             [
              0.1111111111111111,
              "#46039f"
             ],
             [
              0.2222222222222222,
              "#7201a8"
             ],
             [
              0.3333333333333333,
              "#9c179e"
             ],
             [
              0.4444444444444444,
              "#bd3786"
             ],
             [
              0.5555555555555556,
              "#d8576b"
             ],
             [
              0.6666666666666666,
              "#ed7953"
             ],
             [
              0.7777777777777778,
              "#fb9f3a"
             ],
             [
              0.8888888888888888,
              "#fdca26"
             ],
             [
              1,
              "#f0f921"
             ]
            ],
            "type": "histogram2d"
           }
          ],
          "histogram2dcontour": [
           {
            "colorbar": {
             "outlinewidth": 0,
             "ticks": ""
            },
            "colorscale": [
             [
              0,
              "#0d0887"
             ],
             [
              0.1111111111111111,
              "#46039f"
             ],
             [
              0.2222222222222222,
              "#7201a8"
             ],
             [
              0.3333333333333333,
              "#9c179e"
             ],
             [
              0.4444444444444444,
              "#bd3786"
             ],
             [
              0.5555555555555556,
              "#d8576b"
             ],
             [
              0.6666666666666666,
              "#ed7953"
             ],
             [
              0.7777777777777778,
              "#fb9f3a"
             ],
             [
              0.8888888888888888,
              "#fdca26"
             ],
             [
              1,
              "#f0f921"
             ]
            ],
            "type": "histogram2dcontour"
           }
          ],
          "mesh3d": [
           {
            "colorbar": {
             "outlinewidth": 0,
             "ticks": ""
            },
            "type": "mesh3d"
           }
          ],
          "parcoords": [
           {
            "line": {
             "colorbar": {
              "outlinewidth": 0,
              "ticks": ""
             }
            },
            "type": "parcoords"
           }
          ],
          "pie": [
           {
            "automargin": true,
            "type": "pie"
           }
          ],
          "scatter": [
           {
            "marker": {
             "colorbar": {
              "outlinewidth": 0,
              "ticks": ""
             }
            },
            "type": "scatter"
           }
          ],
          "scatter3d": [
           {
            "line": {
             "colorbar": {
              "outlinewidth": 0,
              "ticks": ""
             }
            },
            "marker": {
             "colorbar": {
              "outlinewidth": 0,
              "ticks": ""
             }
            },
            "type": "scatter3d"
           }
          ],
          "scattercarpet": [
           {
            "marker": {
             "colorbar": {
              "outlinewidth": 0,
              "ticks": ""
             }
            },
            "type": "scattercarpet"
           }
          ],
          "scattergeo": [
           {
            "marker": {
             "colorbar": {
              "outlinewidth": 0,
              "ticks": ""
             }
            },
            "type": "scattergeo"
           }
          ],
          "scattergl": [
           {
            "marker": {
             "colorbar": {
              "outlinewidth": 0,
              "ticks": ""
             }
            },
            "type": "scattergl"
           }
          ],
          "scattermapbox": [
           {
            "marker": {
             "colorbar": {
              "outlinewidth": 0,
              "ticks": ""
             }
            },
            "type": "scattermapbox"
           }
          ],
          "scatterpolar": [
           {
            "marker": {
             "colorbar": {
              "outlinewidth": 0,
              "ticks": ""
             }
            },
            "type": "scatterpolar"
           }
          ],
          "scatterpolargl": [
           {
            "marker": {
             "colorbar": {
              "outlinewidth": 0,
              "ticks": ""
             }
            },
            "type": "scatterpolargl"
           }
          ],
          "scatterternary": [
           {
            "marker": {
             "colorbar": {
              "outlinewidth": 0,
              "ticks": ""
             }
            },
            "type": "scatterternary"
           }
          ],
          "surface": [
           {
            "colorbar": {
             "outlinewidth": 0,
             "ticks": ""
            },
            "colorscale": [
             [
              0,
              "#0d0887"
             ],
             [
              0.1111111111111111,
              "#46039f"
             ],
             [
              0.2222222222222222,
              "#7201a8"
             ],
             [
              0.3333333333333333,
              "#9c179e"
             ],
             [
              0.4444444444444444,
              "#bd3786"
             ],
             [
              0.5555555555555556,
              "#d8576b"
             ],
             [
              0.6666666666666666,
              "#ed7953"
             ],
             [
              0.7777777777777778,
              "#fb9f3a"
             ],
             [
              0.8888888888888888,
              "#fdca26"
             ],
             [
              1,
              "#f0f921"
             ]
            ],
            "type": "surface"
           }
          ],
          "table": [
           {
            "cells": {
             "fill": {
              "color": "#EBF0F8"
             },
             "line": {
              "color": "white"
             }
            },
            "header": {
             "fill": {
              "color": "#C8D4E3"
             },
             "line": {
              "color": "white"
             }
            },
            "type": "table"
           }
          ]
         },
         "layout": {
          "annotationdefaults": {
           "arrowcolor": "#2a3f5f",
           "arrowhead": 0,
           "arrowwidth": 1
          },
          "autotypenumbers": "strict",
          "coloraxis": {
           "colorbar": {
            "outlinewidth": 0,
            "ticks": ""
           }
          },
          "colorscale": {
           "diverging": [
            [
             0,
             "#8e0152"
            ],
            [
             0.1,
             "#c51b7d"
            ],
            [
             0.2,
             "#de77ae"
            ],
            [
             0.3,
             "#f1b6da"
            ],
            [
             0.4,
             "#fde0ef"
            ],
            [
             0.5,
             "#f7f7f7"
            ],
            [
             0.6,
             "#e6f5d0"
            ],
            [
             0.7,
             "#b8e186"
            ],
            [
             0.8,
             "#7fbc41"
            ],
            [
             0.9,
             "#4d9221"
            ],
            [
             1,
             "#276419"
            ]
           ],
           "sequential": [
            [
             0,
             "#0d0887"
            ],
            [
             0.1111111111111111,
             "#46039f"
            ],
            [
             0.2222222222222222,
             "#7201a8"
            ],
            [
             0.3333333333333333,
             "#9c179e"
            ],
            [
             0.4444444444444444,
             "#bd3786"
            ],
            [
             0.5555555555555556,
             "#d8576b"
            ],
            [
             0.6666666666666666,
             "#ed7953"
            ],
            [
             0.7777777777777778,
             "#fb9f3a"
            ],
            [
             0.8888888888888888,
             "#fdca26"
            ],
            [
             1,
             "#f0f921"
            ]
           ],
           "sequentialminus": [
            [
             0,
             "#0d0887"
            ],
            [
             0.1111111111111111,
             "#46039f"
            ],
            [
             0.2222222222222222,
             "#7201a8"
            ],
            [
             0.3333333333333333,
             "#9c179e"
            ],
            [
             0.4444444444444444,
             "#bd3786"
            ],
            [
             0.5555555555555556,
             "#d8576b"
            ],
            [
             0.6666666666666666,
             "#ed7953"
            ],
            [
             0.7777777777777778,
             "#fb9f3a"
            ],
            [
             0.8888888888888888,
             "#fdca26"
            ],
            [
             1,
             "#f0f921"
            ]
           ]
          },
          "colorway": [
           "#636efa",
           "#EF553B",
           "#00cc96",
           "#ab63fa",
           "#FFA15A",
           "#19d3f3",
           "#FF6692",
           "#B6E880",
           "#FF97FF",
           "#FECB52"
          ],
          "font": {
           "color": "#2a3f5f"
          },
          "geo": {
           "bgcolor": "white",
           "lakecolor": "white",
           "landcolor": "#E5ECF6",
           "showlakes": true,
           "showland": true,
           "subunitcolor": "white"
          },
          "hoverlabel": {
           "align": "left"
          },
          "hovermode": "closest",
          "mapbox": {
           "style": "light"
          },
          "paper_bgcolor": "white",
          "plot_bgcolor": "#E5ECF6",
          "polar": {
           "angularaxis": {
            "gridcolor": "white",
            "linecolor": "white",
            "ticks": ""
           },
           "bgcolor": "#E5ECF6",
           "radialaxis": {
            "gridcolor": "white",
            "linecolor": "white",
            "ticks": ""
           }
          },
          "scene": {
           "xaxis": {
            "backgroundcolor": "#E5ECF6",
            "gridcolor": "white",
            "gridwidth": 2,
            "linecolor": "white",
            "showbackground": true,
            "ticks": "",
            "zerolinecolor": "white"
           },
           "yaxis": {
            "backgroundcolor": "#E5ECF6",
            "gridcolor": "white",
            "gridwidth": 2,
            "linecolor": "white",
            "showbackground": true,
            "ticks": "",
            "zerolinecolor": "white"
           },
           "zaxis": {
            "backgroundcolor": "#E5ECF6",
            "gridcolor": "white",
            "gridwidth": 2,
            "linecolor": "white",
            "showbackground": true,
            "ticks": "",
            "zerolinecolor": "white"
           }
          },
          "shapedefaults": {
           "line": {
            "color": "#2a3f5f"
           }
          },
          "ternary": {
           "aaxis": {
            "gridcolor": "white",
            "linecolor": "white",
            "ticks": ""
           },
           "baxis": {
            "gridcolor": "white",
            "linecolor": "white",
            "ticks": ""
           },
           "bgcolor": "#E5ECF6",
           "caxis": {
            "gridcolor": "white",
            "linecolor": "white",
            "ticks": ""
           }
          },
          "title": {
           "x": 0.05
          },
          "xaxis": {
           "automargin": true,
           "gridcolor": "white",
           "linecolor": "white",
           "ticks": "",
           "title": {
            "standoff": 15
           },
           "zerolinecolor": "white",
           "zerolinewidth": 2
          },
          "yaxis": {
           "automargin": true,
           "gridcolor": "white",
           "linecolor": "white",
           "ticks": "",
           "title": {
            "standoff": 15
           },
           "zerolinecolor": "white",
           "zerolinewidth": 2
          }
         }
        },
        "title": {
         "text": "BEK 1858 P, red dots"
        },
        "width": 1200,
        "xaxis": {
         "anchor": "y",
         "autorange": true,
         "domain": [
          0,
          1
         ],
         "range": [
          400,
          740
         ],
         "title": {
          "text": "Wavelength (nm)"
         },
         "type": "linear"
        },
        "yaxis": {
         "anchor": "x",
         "autorange": true,
         "domain": [
          0,
          1
         ],
         "range": [
          -0.022283333333333332,
          0.8133833333333332
         ],
         "title": {
          "text": "Reflectance factor"
         },
         "type": "linear"
        }
       }
      },
      "image/png": "[encoded data removed]",
      "text/html": [
       "<div>                            <div id=\"a59e0674-87fb-4662-a956-f3cdb7f23de7\" class=\"plotly-graph-div\" style=\"height:600px; width:1200px;\"></div>            <script type=\"text/javascript\">                require([\"plotly\"], function(Plotly) {                    window.PLOTLYENV=window.PLOTLYENV || {};                                    if (document.getElementById(\"a59e0674-87fb-4662-a956-f3cdb7f23de7\")) {                    Plotly.newPlot(                        \"a59e0674-87fb-4662-a956-f3cdb7f23de7\",                        [{\"hovertemplate\":\"groups=01<br>wl=%{x}<br>sp=%{y}<extra></extra>\",\"legendgroup\":\"01\",\"line\":{\"color\":\"#636efa\",\"dash\":\"solid\"},\"marker\":{\"symbol\":\"circle\"},\"mode\":\"lines\",\"name\":\"01\",\"orientation\":\"v\",\"showlegend\":true,\"x\":[400.0,410.0,420.0,430.0,440.0,450.0,460.0,470.0,480.0,490.0,500.0,510.0,520.0,530.0,540.0,550.0,560.0,570.0,580.0,590.0,600.0,610.0,620.0,630.0,640.0,650.0,660.0,670.0,680.0,690.0,700.0,710.0,720.0,730.0,740.0],\"xaxis\":\"x\",\"y\":[0.0488,0.0583,0.0659,0.0702,0.0674,0.0584,0.0486,0.0405,0.0354,0.0324,0.0305,0.0294,0.0304,0.0326,0.0358,0.0404,0.0506,0.0716,0.1181,0.2014,0.3153,0.4395,0.5314,0.5851,0.6138,0.6341,0.6533,0.6689,0.6836,0.6952,0.7036,0.7088,0.712,0.7146,0.7159],\"yaxis\":\"y\",\"type\":\"scatter\"},{\"hovertemplate\":\"groups=02<br>wl=%{x}<br>sp=%{y}<extra></extra>\",\"legendgroup\":\"02\",\"line\":{\"color\":\"#EF553B\",\"dash\":\"solid\"},\"marker\":{\"symbol\":\"circle\"},\"mode\":\"lines\",\"name\":\"02\",\"orientation\":\"v\",\"showlegend\":true,\"x\":[400.0,410.0,420.0,430.0,440.0,450.0,460.0,470.0,480.0,490.0,500.0,510.0,520.0,530.0,540.0,550.0,560.0,570.0,580.0,590.0,600.0,610.0,620.0,630.0,640.0,650.0,660.0,670.0,680.0,690.0,700.0,710.0,720.0,730.0,740.0],\"xaxis\":\"x\",\"y\":[0.045,0.0445,0.043,0.0427,0.043,0.0419,0.0401,0.0377,0.0362,0.0352,0.0342,0.0329,0.0329,0.0336,0.0339,0.0333,0.0337,0.0354,0.0473,0.0961,0.2117,0.3702,0.4985,0.5708,0.6043,0.6197,0.6305,0.6363,0.6429,0.6488,0.6536,0.6563,0.658,0.6604,0.6615],\"yaxis\":\"y\",\"type\":\"scatter\"},{\"hovertemplate\":\"groups=03<br>wl=%{x}<br>sp=%{y}<extra></extra>\",\"legendgroup\":\"03\",\"line\":{\"color\":\"#00cc96\",\"dash\":\"solid\"},\"marker\":{\"symbol\":\"circle\"},\"mode\":\"lines\",\"name\":\"03\",\"orientation\":\"v\",\"showlegend\":true,\"x\":[400.0,410.0,420.0,430.0,440.0,450.0,460.0,470.0,480.0,490.0,500.0,510.0,520.0,530.0,540.0,550.0,560.0,570.0,580.0,590.0,600.0,610.0,620.0,630.0,640.0,650.0,660.0,670.0,680.0,690.0,700.0,710.0,720.0,730.0,740.0],\"xaxis\":\"x\",\"y\":[0.0322,0.037,0.0401,0.0427,0.0431,0.0399,0.0348,0.0303,0.0272,0.0253,0.0243,0.0236,0.0244,0.0259,0.028,0.0314,0.0399,0.056,0.0884,0.1444,0.2234,0.3219,0.4077,0.4677,0.5079,0.5392,0.5759,0.6139,0.6551,0.6902,0.7166,0.7341,0.745,0.7538,0.7591],\"yaxis\":\"y\",\"type\":\"scatter\"},{\"hovertemplate\":\"groups=05<br>wl=%{x}<br>sp=%{y}<extra></extra>\",\"legendgroup\":\"05\",\"line\":{\"color\":\"#ab63fa\",\"dash\":\"solid\"},\"marker\":{\"symbol\":\"circle\"},\"mode\":\"lines\",\"name\":\"05\",\"orientation\":\"v\",\"showlegend\":true,\"x\":[400.0,410.0,420.0,430.0,440.0,450.0,460.0,470.0,480.0,490.0,500.0,510.0,520.0,530.0,540.0,550.0,560.0,570.0,580.0,590.0,600.0,610.0,620.0,630.0,640.0,650.0,660.0,670.0,680.0,690.0,700.0,710.0,720.0,730.0,740.0],\"xaxis\":\"x\",\"y\":[0.0269,0.0312,0.0338,0.036,0.0363,0.0332,0.0286,0.0248,0.0223,0.0209,0.0202,0.0197,0.0205,0.0219,0.0236,0.026,0.0327,0.0457,0.0732,0.1252,0.2042,0.3065,0.399,0.4627,0.5022,0.5295,0.5621,0.596,0.6337,0.6654,0.6881,0.7027,0.7107,0.7165,0.7188],\"yaxis\":\"y\",\"type\":\"scatter\"},{\"hovertemplate\":\"groups=07<br>wl=%{x}<br>sp=%{y}<extra></extra>\",\"legendgroup\":\"07\",\"line\":{\"color\":\"#FFA15A\",\"dash\":\"solid\"},\"marker\":{\"symbol\":\"circle\"},\"mode\":\"lines\",\"name\":\"07\",\"orientation\":\"v\",\"showlegend\":true,\"x\":[400.0,410.0,420.0,430.0,440.0,450.0,460.0,470.0,480.0,490.0,500.0,510.0,520.0,530.0,540.0,550.0,560.0,570.0,580.0,590.0,600.0,610.0,620.0,630.0,640.0,650.0,660.0,670.0,680.0,690.0,700.0,710.0,720.0,730.0,740.0],\"xaxis\":\"x\",\"y\":[0.033,0.0379,0.0414,0.044,0.0444,0.0409,0.0355,0.0308,0.0275,0.0256,0.0245,0.0237,0.0246,0.0262,0.0286,0.0321,0.0409,0.0579,0.0917,0.1499,0.2324,0.334,0.4224,0.4836,0.5241,0.5545,0.5912,0.6282,0.6686,0.7021,0.7276,0.7434,0.753,0.7612,0.766],\"yaxis\":\"y\",\"type\":\"scatter\"},{\"hovertemplate\":\"groups=09<br>wl=%{x}<br>sp=%{y}<extra></extra>\",\"legendgroup\":\"09\",\"line\":{\"color\":\"#19d3f3\",\"dash\":\"solid\"},\"marker\":{\"symbol\":\"circle\"},\"mode\":\"lines\",\"name\":\"09\",\"orientation\":\"v\",\"showlegend\":true,\"x\":[400.0,410.0,420.0,430.0,440.0,450.0,460.0,470.0,480.0,490.0,500.0,510.0,520.0,530.0,540.0,550.0,560.0,570.0,580.0,590.0,600.0,610.0,620.0,630.0,640.0,650.0,660.0,670.0,680.0,690.0,700.0,710.0,720.0,730.0,740.0],\"xaxis\":\"x\",\"y\":[0.0308,0.0323,0.0314,0.0315,0.0322,0.0315,0.0295,0.0269,0.0246,0.0228,0.0211,0.0195,0.0197,0.0203,0.0204,0.0204,0.0236,0.0342,0.0666,0.1302,0.2129,0.3061,0.3931,0.472,0.5403,0.595,0.6448,0.682,0.7111,0.7302,0.7422,0.7492,0.7532,0.7576,0.7603],\"yaxis\":\"y\",\"type\":\"scatter\"},{\"hovertemplate\":\"groups=11<br>wl=%{x}<br>sp=%{y}<extra></extra>\",\"legendgroup\":\"11\",\"line\":{\"color\":\"#FF6692\",\"dash\":\"solid\"},\"marker\":{\"symbol\":\"circle\"},\"mode\":\"lines\",\"name\":\"11\",\"orientation\":\"v\",\"showlegend\":true,\"x\":[400.0,410.0,420.0,430.0,440.0,450.0,460.0,470.0,480.0,490.0,500.0,510.0,520.0,530.0,540.0,550.0,560.0,570.0,580.0,590.0,600.0,610.0,620.0,630.0,640.0,650.0,660.0,670.0,680.0,690.0,700.0,710.0,720.0,730.0,740.0],\"xaxis\":\"x\",\"y\":[0.0305,0.032,0.0311,0.0313,0.0319,0.0311,0.0292,0.0267,0.0243,0.0227,0.0211,0.0196,0.0197,0.0204,0.0205,0.0204,0.0235,0.0335,0.065,0.1264,0.2077,0.301,0.3886,0.4694,0.5399,0.5966,0.6491,0.6884,0.7193,0.7398,0.7524,0.7597,0.7638,0.769,0.7716],\"yaxis\":\"y\",\"type\":\"scatter\"},{\"hovertemplate\":\"groups=13<br>wl=%{x}<br>sp=%{y}<extra></extra>\",\"legendgroup\":\"13\",\"line\":{\"color\":\"#B6E880\",\"dash\":\"solid\"},\"marker\":{\"symbol\":\"circle\"},\"mode\":\"lines\",\"name\":\"13\",\"orientation\":\"v\",\"showlegend\":true,\"x\":[400.0,410.0,420.0,430.0,440.0,450.0,460.0,470.0,480.0,490.0,500.0,510.0,520.0,530.0,540.0,550.0,560.0,570.0,580.0,590.0,600.0,610.0,620.0,630.0,640.0,650.0,660.0,670.0,680.0,690.0,700.0,710.0,720.0,730.0,740.0],\"xaxis\":\"x\",\"y\":[0.0484,0.0578,0.0652,0.0694,0.0665,0.0573,0.0474,0.0396,0.0343,0.0312,0.0294,0.0282,0.0292,0.0314,0.0347,0.0392,0.0491,0.07,0.1165,0.1993,0.3128,0.4403,0.5344,0.5892,0.6202,0.6394,0.6589,0.6735,0.6887,0.7002,0.7078,0.7122,0.714,0.7172,0.7192],\"yaxis\":\"y\",\"type\":\"scatter\"},{\"hovertemplate\":\"groups=14<br>wl=%{x}<br>sp=%{y}<extra></extra>\",\"legendgroup\":\"14\",\"line\":{\"color\":\"#FF97FF\",\"dash\":\"solid\"},\"marker\":{\"symbol\":\"circle\"},\"mode\":\"lines\",\"name\":\"14\",\"orientation\":\"v\",\"showlegend\":true,\"x\":[400.0,410.0,420.0,430.0,440.0,450.0,460.0,470.0,480.0,490.0,500.0,510.0,520.0,530.0,540.0,550.0,560.0,570.0,580.0,590.0,600.0,610.0,620.0,630.0,640.0,650.0,660.0,670.0,680.0,690.0,700.0,710.0,720.0,730.0,740.0],\"xaxis\":\"x\",\"y\":[0.0484,0.0576,0.0648,0.0689,0.0659,0.057,0.0472,0.0395,0.0342,0.0312,0.0294,0.0283,0.0293,0.0316,0.035,0.0396,0.0499,0.0712,0.1184,0.2017,0.3142,0.4379,0.5274,0.5786,0.608,0.626,0.6445,0.658,0.6723,0.6831,0.6903,0.6947,0.6968,0.6999,0.7014],\"yaxis\":\"y\",\"type\":\"scatter\"},{\"hovertemplate\":\"groups=15<br>wl=%{x}<br>sp=%{y}<extra></extra>\",\"legendgroup\":\"15\",\"line\":{\"color\":\"#FECB52\",\"dash\":\"solid\"},\"marker\":{\"symbol\":\"circle\"},\"mode\":\"lines\",\"name\":\"15\",\"orientation\":\"v\",\"showlegend\":true,\"x\":[400.0,410.0,420.0,430.0,440.0,450.0,460.0,470.0,480.0,490.0,500.0,510.0,520.0,530.0,540.0,550.0,560.0,570.0,580.0,590.0,600.0,610.0,620.0,630.0,640.0,650.0,660.0,670.0,680.0,690.0,700.0,710.0,720.0,730.0,740.0],\"xaxis\":\"x\",\"y\":[0.0562,0.0558,0.0544,0.0543,0.0546,0.0533,0.0509,0.048,0.0456,0.0439,0.0428,0.041,0.0408,0.0416,0.0422,0.0416,0.0418,0.0437,0.0582,0.1085,0.2222,0.3814,0.5051,0.5739,0.6088,0.6241,0.6362,0.6434,0.6517,0.6592,0.665,0.6692,0.672,0.6764,0.6794],\"yaxis\":\"y\",\"type\":\"scatter\"},{\"hovertemplate\":\"groups=16<br>wl=%{x}<br>sp=%{y}<extra></extra>\",\"legendgroup\":\"16\",\"line\":{\"color\":\"#636efa\",\"dash\":\"solid\"},\"marker\":{\"symbol\":\"circle\"},\"mode\":\"lines\",\"name\":\"16\",\"orientation\":\"v\",\"showlegend\":true,\"x\":[400.0,410.0,420.0,430.0,440.0,450.0,460.0,470.0,480.0,490.0,500.0,510.0,520.0,530.0,540.0,550.0,560.0,570.0,580.0,590.0,600.0,610.0,620.0,630.0,640.0,650.0,660.0,670.0,680.0,690.0,700.0,710.0,720.0,730.0,740.0],\"xaxis\":\"x\",\"y\":[0.0577,0.0574,0.0557,0.0555,0.0558,0.0544,0.0521,0.0491,0.0465,0.0449,0.0437,0.042,0.0417,0.0424,0.043,0.0425,0.0425,0.0445,0.0587,0.1094,0.2232,0.3859,0.5148,0.5878,0.625,0.6419,0.6545,0.6622,0.6708,0.6789,0.6851,0.6898,0.693,0.6972,0.7005],\"yaxis\":\"y\",\"type\":\"scatter\"}],                        {\"template\":{\"data\":{\"bar\":[{\"error_x\":{\"color\":\"#2a3f5f\"},\"error_y\":{\"color\":\"#2a3f5f\"},\"marker\":{\"line\":{\"color\":\"#E5ECF6\",\"width\":0.5},\"pattern\":{\"fillmode\":\"overlay\",\"size\":10,\"solidity\":0.2}},\"type\":\"bar\"}],\"barpolar\":[{\"marker\":{\"line\":{\"color\":\"#E5ECF6\",\"width\":0.5},\"pattern\":{\"fillmode\":\"overlay\",\"size\":10,\"solidity\":0.2}},\"type\":\"barpolar\"}],\"carpet\":[{\"aaxis\":{\"endlinecolor\":\"#2a3f5f\",\"gridcolor\":\"white\",\"linecolor\":\"white\",\"minorgridcolor\":\"white\",\"startlinecolor\":\"#2a3f5f\"},\"baxis\":{\"endlinecolor\":\"#2a3f5f\",\"gridcolor\":\"white\",\"linecolor\":\"white\",\"minorgridcolor\":\"white\",\"startlinecolor\":\"#2a3f5f\"},\"type\":\"carpet\"}],\"choropleth\":[{\"colorbar\":{\"outlinewidth\":0,\"ticks\":\"\"},\"type\":\"choropleth\"}],\"contour\":[{\"colorbar\":{\"outlinewidth\":0,\"ticks\":\"\"},\"colorscale\":[[0.0,\"#0d0887\"],[0.1111111111111111,\"#46039f\"],[0.2222222222222222,\"#7201a8\"],[0.3333333333333333,\"#9c179e\"],[0.4444444444444444,\"#bd3786\"],[0.5555555555555556,\"#d8576b\"],[0.6666666666666666,\"#ed7953\"],[0.7777777777777778,\"#fb9f3a\"],[0.8888888888888888,\"#fdca26\"],[1.0,\"#f0f921\"]],\"type\":\"contour\"}],\"contourcarpet\":[{\"colorbar\":{\"outlinewidth\":0,\"ticks\":\"\"},\"type\":\"contourcarpet\"}],\"heatmap\":[{\"colorbar\":{\"outlinewidth\":0,\"ticks\":\"\"},\"colorscale\":[[0.0,\"#0d0887\"],[0.1111111111111111,\"#46039f\"],[0.2222222222222222,\"#7201a8\"],[0.3333333333333333,\"#9c179e\"],[0.4444444444444444,\"#bd3786\"],[0.5555555555555556,\"#d8576b\"],[0.6666666666666666,\"#ed7953\"],[0.7777777777777778,\"#fb9f3a\"],[0.8888888888888888,\"#fdca26\"],[1.0,\"#f0f921\"]],\"type\":\"heatmap\"}],\"heatmapgl\":[{\"colorbar\":{\"outlinewidth\":0,\"ticks\":\"\"},\"colorscale\":[[0.0,\"#0d0887\"],[0.1111111111111111,\"#46039f\"],[0.2222222222222222,\"#7201a8\"],[0.3333333333333333,\"#9c179e\"],[0.4444444444444444,\"#bd3786\"],[0.5555555555555556,\"#d8576b\"],[0.6666666666666666,\"#ed7953\"],[0.7777777777777778,\"#fb9f3a\"],[0.8888888888888888,\"#fdca26\"],[1.0,\"#f0f921\"]],\"type\":\"heatmapgl\"}],\"histogram\":[{\"marker\":{\"pattern\":{\"fillmode\":\"overlay\",\"size\":10,\"solidity\":0.2}},\"type\":\"histogram\"}],\"histogram2d\":[{\"colorbar\":{\"outlinewidth\":0,\"ticks\":\"\"},\"colorscale\":[[0.0,\"#0d0887\"],[0.1111111111111111,\"#46039f\"],[0.2222222222222222,\"#7201a8\"],[0.3333333333333333,\"#9c179e\"],[0.4444444444444444,\"#bd3786\"],[0.5555555555555556,\"#d8576b\"],[0.6666666666666666,\"#ed7953\"],[0.7777777777777778,\"#fb9f3a\"],[0.8888888888888888,\"#fdca26\"],[1.0,\"#f0f921\"]],\"type\":\"histogram2d\"}],\"histogram2dcontour\":[{\"colorbar\":{\"outlinewidth\":0,\"ticks\":\"\"},\"colorscale\":[[0.0,\"#0d0887\"],[0.1111111111111111,\"#46039f\"],[0.2222222222222222,\"#7201a8\"],[0.3333333333333333,\"#9c179e\"],[0.4444444444444444,\"#bd3786\"],[0.5555555555555556,\"#d8576b\"],[0.6666666666666666,\"#ed7953\"],[0.7777777777777778,\"#fb9f3a\"],[0.8888888888888888,\"#fdca26\"],[1.0,\"#f0f921\"]],\"type\":\"histogram2dcontour\"}],\"mesh3d\":[{\"colorbar\":{\"outlinewidth\":0,\"ticks\":\"\"},\"type\":\"mesh3d\"}],\"parcoords\":[{\"line\":{\"colorbar\":{\"outlinewidth\":0,\"ticks\":\"\"}},\"type\":\"parcoords\"}],\"pie\":[{\"automargin\":true,\"type\":\"pie\"}],\"scatter\":[{\"marker\":{\"colorbar\":{\"outlinewidth\":0,\"ticks\":\"\"}},\"type\":\"scatter\"}],\"scatter3d\":[{\"line\":{\"colorbar\":{\"outlinewidth\":0,\"ticks\":\"\"}},\"marker\":{\"colorbar\":{\"outlinewidth\":0,\"ticks\":\"\"}},\"type\":\"scatter3d\"}],\"scattercarpet\":[{\"marker\":{\"colorbar\":{\"outlinewidth\":0,\"ticks\":\"\"}},\"type\":\"scattercarpet\"}],\"scattergeo\":[{\"marker\":{\"colorbar\":{\"outlinewidth\":0,\"ticks\":\"\"}},\"type\":\"scattergeo\"}],\"scattergl\":[{\"marker\":{\"colorbar\":{\"outlinewidth\":0,\"ticks\":\"\"}},\"type\":\"scattergl\"}],\"scattermapbox\":[{\"marker\":{\"colorbar\":{\"outlinewidth\":0,\"ticks\":\"\"}},\"type\":\"scattermapbox\"}],\"scatterpolar\":[{\"marker\":{\"colorbar\":{\"outlinewidth\":0,\"ticks\":\"\"}},\"type\":\"scatterpolar\"}],\"scatterpolargl\":[{\"marker\":{\"colorbar\":{\"outlinewidth\":0,\"ticks\":\"\"}},\"type\":\"scatterpolargl\"}],\"scatterternary\":[{\"marker\":{\"colorbar\":{\"outlinewidth\":0,\"ticks\":\"\"}},\"type\":\"scatterternary\"}],\"surface\":[{\"colorbar\":{\"outlinewidth\":0,\"ticks\":\"\"},\"colorscale\":[[0.0,\"#0d0887\"],[0.1111111111111111,\"#46039f\"],[0.2222222222222222,\"#7201a8\"],[0.3333333333333333,\"#9c179e\"],[0.4444444444444444,\"#bd3786\"],[0.5555555555555556,\"#d8576b\"],[0.6666666666666666,\"#ed7953\"],[0.7777777777777778,\"#fb9f3a\"],[0.8888888888888888,\"#fdca26\"],[1.0,\"#f0f921\"]],\"type\":\"surface\"}],\"table\":[{\"cells\":{\"fill\":{\"color\":\"#EBF0F8\"},\"line\":{\"color\":\"white\"}},\"header\":{\"fill\":{\"color\":\"#C8D4E3\"},\"line\":{\"color\":\"white\"}},\"type\":\"table\"}]},\"layout\":{\"annotationdefaults\":{\"arrowcolor\":\"#2a3f5f\",\"arrowhead\":0,\"arrowwidth\":1},\"autotypenumbers\":\"strict\",\"coloraxis\":{\"colorbar\":{\"outlinewidth\":0,\"ticks\":\"\"}},\"colorscale\":{\"diverging\":[[0,\"#8e0152\"],[0.1,\"#c51b7d\"],[0.2,\"#de77ae\"],[0.3,\"#f1b6da\"],[0.4,\"#fde0ef\"],[0.5,\"#f7f7f7\"],[0.6,\"#e6f5d0\"],[0.7,\"#b8e186\"],[0.8,\"#7fbc41\"],[0.9,\"#4d9221\"],[1,\"#276419\"]],\"sequential\":[[0.0,\"#0d0887\"],[0.1111111111111111,\"#46039f\"],[0.2222222222222222,\"#7201a8\"],[0.3333333333333333,\"#9c179e\"],[0.4444444444444444,\"#bd3786\"],[0.5555555555555556,\"#d8576b\"],[0.6666666666666666,\"#ed7953\"],[0.7777777777777778,\"#fb9f3a\"],[0.8888888888888888,\"#fdca26\"],[1.0,\"#f0f921\"]],\"sequentialminus\":[[0.0,\"#0d0887\"],[0.1111111111111111,\"#46039f\"],[0.2222222222222222,\"#7201a8\"],[0.3333333333333333,\"#9c179e\"],[0.4444444444444444,\"#bd3786\"],[0.5555555555555556,\"#d8576b\"],[0.6666666666666666,\"#ed7953\"],[0.7777777777777778,\"#fb9f3a\"],[0.8888888888888888,\"#fdca26\"],[1.0,\"#f0f921\"]]},\"colorway\":[\"#636efa\",\"#EF553B\",\"#00cc96\",\"#ab63fa\",\"#FFA15A\",\"#19d3f3\",\"#FF6692\",\"#B6E880\",\"#FF97FF\",\"#FECB52\"],\"font\":{\"color\":\"#2a3f5f\"},\"geo\":{\"bgcolor\":\"white\",\"lakecolor\":\"white\",\"landcolor\":\"#E5ECF6\",\"showlakes\":true,\"showland\":true,\"subunitcolor\":\"white\"},\"hoverlabel\":{\"align\":\"left\"},\"hovermode\":\"closest\",\"mapbox\":{\"style\":\"light\"},\"paper_bgcolor\":\"white\",\"plot_bgcolor\":\"#E5ECF6\",\"polar\":{\"angularaxis\":{\"gridcolor\":\"white\",\"linecolor\":\"white\",\"ticks\":\"\"},\"bgcolor\":\"#E5ECF6\",\"radialaxis\":{\"gridcolor\":\"white\",\"linecolor\":\"white\",\"ticks\":\"\"}},\"scene\":{\"xaxis\":{\"backgroundcolor\":\"#E5ECF6\",\"gridcolor\":\"white\",\"gridwidth\":2,\"linecolor\":\"white\",\"showbackground\":true,\"ticks\":\"\",\"zerolinecolor\":\"white\"},\"yaxis\":{\"backgroundcolor\":\"#E5ECF6\",\"gridcolor\":\"white\",\"gridwidth\":2,\"linecolor\":\"white\",\"showbackground\":true,\"ticks\":\"\",\"zerolinecolor\":\"white\"},\"zaxis\":{\"backgroundcolor\":\"#E5ECF6\",\"gridcolor\":\"white\",\"gridwidth\":2,\"linecolor\":\"white\",\"showbackground\":true,\"ticks\":\"\",\"zerolinecolor\":\"white\"}},\"shapedefaults\":{\"line\":{\"color\":\"#2a3f5f\"}},\"ternary\":{\"aaxis\":{\"gridcolor\":\"white\",\"linecolor\":\"white\",\"ticks\":\"\"},\"baxis\":{\"gridcolor\":\"white\",\"linecolor\":\"white\",\"ticks\":\"\"},\"bgcolor\":\"#E5ECF6\",\"caxis\":{\"gridcolor\":\"white\",\"linecolor\":\"white\",\"ticks\":\"\"}},\"title\":{\"x\":0.05},\"xaxis\":{\"automargin\":true,\"gridcolor\":\"white\",\"linecolor\":\"white\",\"ticks\":\"\",\"title\":{\"standoff\":15},\"zerolinecolor\":\"white\",\"zerolinewidth\":2},\"yaxis\":{\"automargin\":true,\"gridcolor\":\"white\",\"linecolor\":\"white\",\"ticks\":\"\",\"title\":{\"standoff\":15},\"zerolinecolor\":\"white\",\"zerolinewidth\":2}}},\"xaxis\":{\"anchor\":\"y\",\"domain\":[0.0,1.0],\"title\":{\"text\":\"Wavelength (nm)\"}},\"yaxis\":{\"anchor\":\"x\",\"domain\":[0.0,1.0],\"title\":{\"text\":\"Reflectance factor\"}},\"legend\":{\"title\":{\"text\":\"Groups\"},\"tracegroupgap\":0},\"margin\":{\"t\":60},\"font\":{\"family\":\"Droid Serif\",\"size\":22,\"color\":\"Black\"},\"autosize\":false,\"width\":1200,\"height\":600,\"title\":{\"text\":\"BEK 1858 P, red dots\"}},                        {\"responsive\": true}                    ).then(function(){\n",
       "                            \n",
       "var gd = document.getElementById('a59e0674-87fb-4662-a956-f3cdb7f23de7');\n",
       "var x = new MutationObserver(function (mutations, observer) {{\n",
       "        var display = window.getComputedStyle(gd).display;\n",
       "        if (!display || display === 'none') {{\n",
       "            console.log([gd, 'removed!']);\n",
       "            Plotly.purge(gd);\n",
       "            observer.disconnect();\n",
       "        }}\n",
       "}});\n",
       "\n",
       "// Listen for the removal of the full notebook cells\n",
       "var notebookContainer = gd.closest('#notebook-container');\n",
       "if (notebookContainer) {{\n",
       "    x.observe(notebookContainer, {childList: true});\n",
       "}}\n",
       "\n",
       "// Listen for the clearing of the current output cell\n",
       "var outputEl = gd.closest('.output');\n",
       "if (outputEl) {{\n",
       "    x.observe(outputEl, {childList: true});\n",
       "}}\n",
       "\n",
       "                        })                };                });            </script>        </div>"
      ]
     },
     "metadata": {},
     "output_type": "display_data"
    }
   ],
   "source": [
    "df_RS_reds = pd.DataFrame()\n",
    "\n",
    "for file in files:\n",
    "    df = pd.read_csv(file, index_col='parameter')\n",
    "    color = df.loc['color']['value_mean']\n",
    "    \n",
    "    if color == 'red':\n",
    "    \n",
    "        group = df.loc['group']['value_mean'][-2:]\n",
    "        patroon = df_groups.loc[group]['patroons']\n",
    "        spectrum = df_groups.loc[group]['spectra']\n",
    "        \n",
    "        data_sp = df.loc['[MEASUREMENT DATA]':][6:].astype('float')\n",
    "\n",
    "        wl = data_sp.index.astype('float')\n",
    "        sp_mean = data_sp['value_mean']\n",
    "        sp_std = data_sp['value_std']\n",
    "        \n",
    "        df_data = pd.DataFrame(data = {'groups':group,'spectra':spectrum, 'wl':wl.values, 'sp':sp_mean.values})\n",
    "        df_RS_reds = pd.concat([df_RS_reds,df_data], axis=0)\n",
    "        \n",
    "        \n",
    "fig = px.line(df_RS_reds, x ='wl',y='sp', color='groups') \n",
    "\n",
    "fig.update_layout(\n",
    "    autosize=False,\n",
    "    width=1200,\n",
    "    height=600,\n",
    "    title=\"BEK 1858 P, red dots\",\n",
    "    xaxis_title=\"Wavelength (nm)\",\n",
    "    yaxis_title=\"Reflectance factor\",\n",
    "    legend_title=\"Groups\",\n",
    "    font=dict(\n",
    "        family=\"Droid Serif\",\n",
    "        size=22,\n",
    "        color=\"Black\"\n",
    "    )\n",
    ")\n",
    "\n",
    "fig.show()  "
   ]
  },
  {
   "cell_type": "code",
   "execution_count": 7,
   "id": "ac5848ca-215c-48d7-af99-dd86d7c69e33",
   "metadata": {
    "jupyter": {
     "source_hidden": true
    },
    "tags": []
   },
   "outputs": [
    {
     "data": {
      "application/vnd.plotly.v1+json": {
       "config": {
        "plotlyServerURL": "https://plot.ly"
       },
       "data": [
        {
         "hovertemplate": "groups=04<br>wl=%{x}<br>sp=%{y}<extra></extra>",
         "legendgroup": "04",
         "line": {
          "color": "#636efa",
          "dash": "solid"
         },
         "marker": {
          "symbol": "circle"
         },
         "mode": "lines",
         "name": "04",
         "orientation": "v",
         "showlegend": true,
         "type": "scatter",
         "x": [
          400,
          410,
          420,
          430,
          440,
          450,
          460,
          470,
          480,
          490,
          500,
          510,
          520,
          530,
          540,
          550,
          560,
          570,
          580,
          590,
          600,
          610,
          620,
          630,
          640,
          650,
          660,
          670,
          680,
          690,
          700,
          710,
          720,
          730,
          740
         ],
         "xaxis": "x",
         "y": [
          0.514,
          0.5427,
          0.5649,
          0.5874,
          0.607,
          0.6218,
          0.6364,
          0.6487,
          0.658,
          0.667,
          0.6754,
          0.6818,
          0.6885,
          0.6934,
          0.7016,
          0.7074,
          0.7132,
          0.7193,
          0.7249,
          0.7306,
          0.734,
          0.741,
          0.7436,
          0.746,
          0.7507,
          0.7519,
          0.7559,
          0.7555,
          0.7588,
          0.7614,
          0.7634,
          0.7649,
          0.7652,
          0.7676,
          0.7684
         ],
         "yaxis": "y"
        },
        {
         "hovertemplate": "groups=06<br>wl=%{x}<br>sp=%{y}<extra></extra>",
         "legendgroup": "06",
         "line": {
          "color": "#EF553B",
          "dash": "solid"
         },
         "marker": {
          "symbol": "circle"
         },
         "mode": "lines",
         "name": "06",
         "orientation": "v",
         "showlegend": true,
         "type": "scatter",
         "x": [
          400,
          410,
          420,
          430,
          440,
          450,
          460,
          470,
          480,
          490,
          500,
          510,
          520,
          530,
          540,
          550,
          560,
          570,
          580,
          590,
          600,
          610,
          620,
          630,
          640,
          650,
          660,
          670,
          680,
          690,
          700,
          710,
          720,
          730,
          740
         ],
         "xaxis": "x",
         "y": [
          0.5854,
          0.6077,
          0.6241,
          0.6398,
          0.6516,
          0.6601,
          0.6685,
          0.674,
          0.6778,
          0.6824,
          0.6853,
          0.688,
          0.6911,
          0.6932,
          0.6982,
          0.7018,
          0.7058,
          0.7113,
          0.7157,
          0.7204,
          0.7223,
          0.7314,
          0.7328,
          0.7343,
          0.7369,
          0.7368,
          0.7389,
          0.7362,
          0.7382,
          0.74,
          0.7402,
          0.7412,
          0.7405,
          0.7421,
          0.7416
         ],
         "yaxis": "y"
        },
        {
         "hovertemplate": "groups=08<br>wl=%{x}<br>sp=%{y}<extra></extra>",
         "legendgroup": "08",
         "line": {
          "color": "#00cc96",
          "dash": "solid"
         },
         "marker": {
          "symbol": "circle"
         },
         "mode": "lines",
         "name": "08",
         "orientation": "v",
         "showlegend": true,
         "type": "scatter",
         "x": [
          400,
          410,
          420,
          430,
          440,
          450,
          460,
          470,
          480,
          490,
          500,
          510,
          520,
          530,
          540,
          550,
          560,
          570,
          580,
          590,
          600,
          610,
          620,
          630,
          640,
          650,
          660,
          670,
          680,
          690,
          700,
          710,
          720,
          730,
          740
         ],
         "xaxis": "x",
         "y": [
          0.5028,
          0.5302,
          0.5522,
          0.5742,
          0.5935,
          0.6089,
          0.6236,
          0.6354,
          0.6452,
          0.6542,
          0.6625,
          0.6696,
          0.676,
          0.6809,
          0.6889,
          0.6939,
          0.6997,
          0.706,
          0.711,
          0.7164,
          0.7195,
          0.7278,
          0.7304,
          0.7333,
          0.7372,
          0.739,
          0.7428,
          0.7426,
          0.7456,
          0.7488,
          0.7506,
          0.7522,
          0.7525,
          0.7548,
          0.7558
         ],
         "yaxis": "y"
        },
        {
         "hovertemplate": "groups=10<br>wl=%{x}<br>sp=%{y}<extra></extra>",
         "legendgroup": "10",
         "line": {
          "color": "#ab63fa",
          "dash": "solid"
         },
         "marker": {
          "symbol": "circle"
         },
         "mode": "lines",
         "name": "10",
         "orientation": "v",
         "showlegend": true,
         "type": "scatter",
         "x": [
          400,
          410,
          420,
          430,
          440,
          450,
          460,
          470,
          480,
          490,
          500,
          510,
          520,
          530,
          540,
          550,
          560,
          570,
          580,
          590,
          600,
          610,
          620,
          630,
          640,
          650,
          660,
          670,
          680,
          690,
          700,
          710,
          720,
          730,
          740
         ],
         "xaxis": "x",
         "y": [
          0.6064,
          0.6318,
          0.6506,
          0.6681,
          0.6817,
          0.6913,
          0.701,
          0.7082,
          0.7141,
          0.7202,
          0.7258,
          0.7301,
          0.7341,
          0.7365,
          0.7416,
          0.7444,
          0.7469,
          0.7507,
          0.753,
          0.7561,
          0.7568,
          0.7629,
          0.764,
          0.7657,
          0.7688,
          0.7691,
          0.7704,
          0.7676,
          0.7704,
          0.775,
          0.7776,
          0.7792,
          0.7792,
          0.7817,
          0.7822
         ],
         "yaxis": "y"
        },
        {
         "hovertemplate": "groups=12<br>wl=%{x}<br>sp=%{y}<extra></extra>",
         "legendgroup": "12",
         "line": {
          "color": "#FFA15A",
          "dash": "solid"
         },
         "marker": {
          "symbol": "circle"
         },
         "mode": "lines",
         "name": "12",
         "orientation": "v",
         "showlegend": true,
         "type": "scatter",
         "x": [
          400,
          410,
          420,
          430,
          440,
          450,
          460,
          470,
          480,
          490,
          500,
          510,
          520,
          530,
          540,
          550,
          560,
          570,
          580,
          590,
          600,
          610,
          620,
          630,
          640,
          650,
          660,
          670,
          680,
          690,
          700,
          710,
          720,
          730,
          740
         ],
         "xaxis": "x",
         "y": [
          0.5926,
          0.6166,
          0.6339,
          0.6505,
          0.6641,
          0.6736,
          0.6832,
          0.6907,
          0.6964,
          0.7025,
          0.708,
          0.7125,
          0.7165,
          0.7189,
          0.7242,
          0.7271,
          0.7299,
          0.7333,
          0.736,
          0.7392,
          0.7398,
          0.749,
          0.7504,
          0.7518,
          0.7555,
          0.7558,
          0.7571,
          0.7544,
          0.7574,
          0.7619,
          0.7647,
          0.7664,
          0.7665,
          0.769,
          0.7696
         ],
         "yaxis": "y"
        }
       ],
       "layout": {
        "autosize": false,
        "font": {
         "color": "Black",
         "family": "Droid Serif",
         "size": 22
        },
        "height": 600,
        "legend": {
         "title": {
          "text": "Groups"
         },
         "tracegroupgap": 0
        },
        "margin": {
         "t": 60
        },
        "template": {
         "data": {
          "bar": [
           {
            "error_x": {
             "color": "#2a3f5f"
            },
            "error_y": {
             "color": "#2a3f5f"
            },
            "marker": {
             "line": {
              "color": "#E5ECF6",
              "width": 0.5
             },
             "pattern": {
              "fillmode": "overlay",
              "size": 10,
              "solidity": 0.2
             }
            },
            "type": "bar"
           }
          ],
          "barpolar": [
           {
            "marker": {
             "line": {
              "color": "#E5ECF6",
              "width": 0.5
             },
             "pattern": {
              "fillmode": "overlay",
              "size": 10,
              "solidity": 0.2
             }
            },
            "type": "barpolar"
           }
          ],
          "carpet": [
           {
            "aaxis": {
             "endlinecolor": "#2a3f5f",
             "gridcolor": "white",
             "linecolor": "white",
             "minorgridcolor": "white",
             "startlinecolor": "#2a3f5f"
            },
            "baxis": {
             "endlinecolor": "#2a3f5f",
             "gridcolor": "white",
             "linecolor": "white",
             "minorgridcolor": "white",
             "startlinecolor": "#2a3f5f"
            },
            "type": "carpet"
           }
          ],
          "choropleth": [
           {
            "colorbar": {
             "outlinewidth": 0,
             "ticks": ""
            },
            "type": "choropleth"
           }
          ],
          "contour": [
           {
            "colorbar": {
             "outlinewidth": 0,
             "ticks": ""
            },
            "colorscale": [
             [
              0,
              "#0d0887"
             ],
             [
              0.1111111111111111,
              "#46039f"
             ],
             [
              0.2222222222222222,
              "#7201a8"
             ],
             [
              0.3333333333333333,
              "#9c179e"
             ],
             [
              0.4444444444444444,
              "#bd3786"
             ],
             [
              0.5555555555555556,
              "#d8576b"
             ],
             [
              0.6666666666666666,
              "#ed7953"
             ],
             [
              0.7777777777777778,
              "#fb9f3a"
             ],
             [
              0.8888888888888888,
              "#fdca26"
             ],
             [
              1,
              "#f0f921"
             ]
            ],
            "type": "contour"
           }
          ],
          "contourcarpet": [
           {
            "colorbar": {
             "outlinewidth": 0,
             "ticks": ""
            },
            "type": "contourcarpet"
           }
          ],
          "heatmap": [
           {
            "colorbar": {
             "outlinewidth": 0,
             "ticks": ""
            },
            "colorscale": [
             [
              0,
              "#0d0887"
             ],
             [
              0.1111111111111111,
              "#46039f"
             ],
             [
              0.2222222222222222,
              "#7201a8"
             ],
             [
              0.3333333333333333,
              "#9c179e"
             ],
             [
              0.4444444444444444,
              "#bd3786"
             ],
             [
              0.5555555555555556,
              "#d8576b"
             ],
             [
              0.6666666666666666,
              "#ed7953"
             ],
             [
              0.7777777777777778,
              "#fb9f3a"
             ],
             [
              0.8888888888888888,
              "#fdca26"
             ],
             [
              1,
              "#f0f921"
             ]
            ],
            "type": "heatmap"
           }
          ],
          "heatmapgl": [
           {
            "colorbar": {
             "outlinewidth": 0,
             "ticks": ""
            },
            "colorscale": [
             [
              0,
              "#0d0887"
             ],
             [
              0.1111111111111111,
              "#46039f"
             ],
             [
              0.2222222222222222,
              "#7201a8"
             ],
             [
              0.3333333333333333,
              "#9c179e"
             ],
             [
              0.4444444444444444,
              "#bd3786"
             ],
             [
              0.5555555555555556,
              "#d8576b"
             ],
             [
              0.6666666666666666,
              "#ed7953"
             ],
             [
              0.7777777777777778,
              "#fb9f3a"
             ],
             [
              0.8888888888888888,
              "#fdca26"
             ],
             [
              1,
              "#f0f921"
             ]
            ],
            "type": "heatmapgl"
           }
          ],
          "histogram": [
           {
            "marker": {
             "pattern": {
              "fillmode": "overlay",
              "size": 10,
              "solidity": 0.2
             }
            },
            "type": "histogram"
           }
          ],
          "histogram2d": [
           {
            "colorbar": {
             "outlinewidth": 0,
             "ticks": ""
            },
            "colorscale": [
             [
              0,
              "#0d0887"
             ],
             [
              0.1111111111111111,
              "#46039f"
             ],
             [
              0.2222222222222222,
              "#7201a8"
             ],
             [
              0.3333333333333333,
              "#9c179e"
             ],
             [
              0.4444444444444444,
              "#bd3786"
             ],
             [
              0.5555555555555556,
              "#d8576b"
             ],
             [
              0.6666666666666666,
              "#ed7953"
             ],
             [
              0.7777777777777778,
              "#fb9f3a"
             ],
             [
              0.8888888888888888,
              "#fdca26"
             ],
             [
              1,
              "#f0f921"
             ]
            ],
            "type": "histogram2d"
           }
          ],
          "histogram2dcontour": [
           {
            "colorbar": {
             "outlinewidth": 0,
             "ticks": ""
            },
            "colorscale": [
             [
              0,
              "#0d0887"
             ],
             [
              0.1111111111111111,
              "#46039f"
             ],
             [
              0.2222222222222222,
              "#7201a8"
             ],
             [
              0.3333333333333333,
              "#9c179e"
             ],
             [
              0.4444444444444444,
              "#bd3786"
             ],
             [
              0.5555555555555556,
              "#d8576b"
             ],
             [
              0.6666666666666666,
              "#ed7953"
             ],
             [
              0.7777777777777778,
              "#fb9f3a"
             ],
             [
              0.8888888888888888,
              "#fdca26"
             ],
             [
              1,
              "#f0f921"
             ]
            ],
            "type": "histogram2dcontour"
           }
          ],
          "mesh3d": [
           {
            "colorbar": {
             "outlinewidth": 0,
             "ticks": ""
            },
            "type": "mesh3d"
           }
          ],
          "parcoords": [
           {
            "line": {
             "colorbar": {
              "outlinewidth": 0,
              "ticks": ""
             }
            },
            "type": "parcoords"
           }
          ],
          "pie": [
           {
            "automargin": true,
            "type": "pie"
           }
          ],
          "scatter": [
           {
            "marker": {
             "colorbar": {
              "outlinewidth": 0,
              "ticks": ""
             }
            },
            "type": "scatter"
           }
          ],
          "scatter3d": [
           {
            "line": {
             "colorbar": {
              "outlinewidth": 0,
              "ticks": ""
             }
            },
            "marker": {
             "colorbar": {
              "outlinewidth": 0,
              "ticks": ""
             }
            },
            "type": "scatter3d"
           }
          ],
          "scattercarpet": [
           {
            "marker": {
             "colorbar": {
              "outlinewidth": 0,
              "ticks": ""
             }
            },
            "type": "scattercarpet"
           }
          ],
          "scattergeo": [
           {
            "marker": {
             "colorbar": {
              "outlinewidth": 0,
              "ticks": ""
             }
            },
            "type": "scattergeo"
           }
          ],
          "scattergl": [
           {
            "marker": {
             "colorbar": {
              "outlinewidth": 0,
              "ticks": ""
             }
            },
            "type": "scattergl"
           }
          ],
          "scattermapbox": [
           {
            "marker": {
             "colorbar": {
              "outlinewidth": 0,
              "ticks": ""
             }
            },
            "type": "scattermapbox"
           }
          ],
          "scatterpolar": [
           {
            "marker": {
             "colorbar": {
              "outlinewidth": 0,
              "ticks": ""
             }
            },
            "type": "scatterpolar"
           }
          ],
          "scatterpolargl": [
           {
            "marker": {
             "colorbar": {
              "outlinewidth": 0,
              "ticks": ""
             }
            },
            "type": "scatterpolargl"
           }
          ],
          "scatterternary": [
           {
            "marker": {
             "colorbar": {
              "outlinewidth": 0,
              "ticks": ""
             }
            },
            "type": "scatterternary"
           }
          ],
          "surface": [
           {
            "colorbar": {
             "outlinewidth": 0,
             "ticks": ""
            },
            "colorscale": [
             [
              0,
              "#0d0887"
             ],
             [
              0.1111111111111111,
              "#46039f"
             ],
             [
              0.2222222222222222,
              "#7201a8"
             ],
             [
              0.3333333333333333,
              "#9c179e"
             ],
             [
              0.4444444444444444,
              "#bd3786"
             ],
             [
              0.5555555555555556,
              "#d8576b"
             ],
             [
              0.6666666666666666,
              "#ed7953"
             ],
             [
              0.7777777777777778,
              "#fb9f3a"
             ],
             [
              0.8888888888888888,
              "#fdca26"
             ],
             [
              1,
              "#f0f921"
             ]
            ],
            "type": "surface"
           }
          ],
          "table": [
           {
            "cells": {
             "fill": {
              "color": "#EBF0F8"
             },
             "line": {
              "color": "white"
             }
            },
            "header": {
             "fill": {
              "color": "#C8D4E3"
             },
             "line": {
              "color": "white"
             }
            },
            "type": "table"
           }
          ]
         },
         "layout": {
          "annotationdefaults": {
           "arrowcolor": "#2a3f5f",
           "arrowhead": 0,
           "arrowwidth": 1
          },
          "autotypenumbers": "strict",
          "coloraxis": {
           "colorbar": {
            "outlinewidth": 0,
            "ticks": ""
           }
          },
          "colorscale": {
           "diverging": [
            [
             0,
             "#8e0152"
            ],
            [
             0.1,
             "#c51b7d"
            ],
            [
             0.2,
             "#de77ae"
            ],
            [
             0.3,
             "#f1b6da"
            ],
            [
             0.4,
             "#fde0ef"
            ],
            [
             0.5,
             "#f7f7f7"
            ],
            [
             0.6,
             "#e6f5d0"
            ],
            [
             0.7,
             "#b8e186"
            ],
            [
             0.8,
             "#7fbc41"
            ],
            [
             0.9,
             "#4d9221"
            ],
            [
             1,
             "#276419"
            ]
           ],
           "sequential": [
            [
             0,
             "#0d0887"
            ],
            [
             0.1111111111111111,
             "#46039f"
            ],
            [
             0.2222222222222222,
             "#7201a8"
            ],
            [
             0.3333333333333333,
             "#9c179e"
            ],
            [
             0.4444444444444444,
             "#bd3786"
            ],
            [
             0.5555555555555556,
             "#d8576b"
            ],
            [
             0.6666666666666666,
             "#ed7953"
            ],
            [
             0.7777777777777778,
             "#fb9f3a"
            ],
            [
             0.8888888888888888,
             "#fdca26"
            ],
            [
             1,
             "#f0f921"
            ]
           ],
           "sequentialminus": [
            [
             0,
             "#0d0887"
            ],
            [
             0.1111111111111111,
             "#46039f"
            ],
            [
             0.2222222222222222,
             "#7201a8"
            ],
            [
             0.3333333333333333,
             "#9c179e"
            ],
            [
             0.4444444444444444,
             "#bd3786"
            ],
            [
             0.5555555555555556,
             "#d8576b"
            ],
            [
             0.6666666666666666,
             "#ed7953"
            ],
            [
             0.7777777777777778,
             "#fb9f3a"
            ],
            [
             0.8888888888888888,
             "#fdca26"
            ],
            [
             1,
             "#f0f921"
            ]
           ]
          },
          "colorway": [
           "#636efa",
           "#EF553B",
           "#00cc96",
           "#ab63fa",
           "#FFA15A",
           "#19d3f3",
           "#FF6692",
           "#B6E880",
           "#FF97FF",
           "#FECB52"
          ],
          "font": {
           "color": "#2a3f5f"
          },
          "geo": {
           "bgcolor": "white",
           "lakecolor": "white",
           "landcolor": "#E5ECF6",
           "showlakes": true,
           "showland": true,
           "subunitcolor": "white"
          },
          "hoverlabel": {
           "align": "left"
          },
          "hovermode": "closest",
          "mapbox": {
           "style": "light"
          },
          "paper_bgcolor": "white",
          "plot_bgcolor": "#E5ECF6",
          "polar": {
           "angularaxis": {
            "gridcolor": "white",
            "linecolor": "white",
            "ticks": ""
           },
           "bgcolor": "#E5ECF6",
           "radialaxis": {
            "gridcolor": "white",
            "linecolor": "white",
            "ticks": ""
           }
          },
          "scene": {
           "xaxis": {
            "backgroundcolor": "#E5ECF6",
            "gridcolor": "white",
            "gridwidth": 2,
            "linecolor": "white",
            "showbackground": true,
            "ticks": "",
            "zerolinecolor": "white"
           },
           "yaxis": {
            "backgroundcolor": "#E5ECF6",
            "gridcolor": "white",
            "gridwidth": 2,
            "linecolor": "white",
            "showbackground": true,
            "ticks": "",
            "zerolinecolor": "white"
           },
           "zaxis": {
            "backgroundcolor": "#E5ECF6",
            "gridcolor": "white",
            "gridwidth": 2,
            "linecolor": "white",
            "showbackground": true,
            "ticks": "",
            "zerolinecolor": "white"
           }
          },
          "shapedefaults": {
           "line": {
            "color": "#2a3f5f"
           }
          },
          "ternary": {
           "aaxis": {
            "gridcolor": "white",
            "linecolor": "white",
            "ticks": ""
           },
           "baxis": {
            "gridcolor": "white",
            "linecolor": "white",
            "ticks": ""
           },
           "bgcolor": "#E5ECF6",
           "caxis": {
            "gridcolor": "white",
            "linecolor": "white",
            "ticks": ""
           }
          },
          "title": {
           "x": 0.05
          },
          "xaxis": {
           "automargin": true,
           "gridcolor": "white",
           "linecolor": "white",
           "ticks": "",
           "title": {
            "standoff": 15
           },
           "zerolinecolor": "white",
           "zerolinewidth": 2
          },
          "yaxis": {
           "automargin": true,
           "gridcolor": "white",
           "linecolor": "white",
           "ticks": "",
           "title": {
            "standoff": 15
           },
           "zerolinecolor": "white",
           "zerolinewidth": 2
          }
         }
        },
        "title": {
         "text": "BEK 1858 P, white textile"
        },
        "width": 1200,
        "xaxis": {
         "anchor": "y",
         "autorange": true,
         "domain": [
          0,
          1
         ],
         "range": [
          400,
          740
         ],
         "title": {
          "text": "Wavelength (nm)"
         },
         "type": "linear"
        },
        "yaxis": {
         "anchor": "x",
         "autorange": true,
         "domain": [
          0,
          1
         ],
         "range": [
          0.4872777777777778,
          0.7977222222222222
         ],
         "title": {
          "text": "Reflectance factor"
         },
         "type": "linear"
        }
       }
      },
      "image/png": "[encoded data removed]",
      "text/html": [
       "<div>                            <div id=\"cecdac8a-f189-4da6-bf69-a55f3b3e7337\" class=\"plotly-graph-div\" style=\"height:600px; width:1200px;\"></div>            <script type=\"text/javascript\">                require([\"plotly\"], function(Plotly) {                    window.PLOTLYENV=window.PLOTLYENV || {};                                    if (document.getElementById(\"cecdac8a-f189-4da6-bf69-a55f3b3e7337\")) {                    Plotly.newPlot(                        \"cecdac8a-f189-4da6-bf69-a55f3b3e7337\",                        [{\"hovertemplate\":\"groups=04<br>wl=%{x}<br>sp=%{y}<extra></extra>\",\"legendgroup\":\"04\",\"line\":{\"color\":\"#636efa\",\"dash\":\"solid\"},\"marker\":{\"symbol\":\"circle\"},\"mode\":\"lines\",\"name\":\"04\",\"orientation\":\"v\",\"showlegend\":true,\"x\":[400.0,410.0,420.0,430.0,440.0,450.0,460.0,470.0,480.0,490.0,500.0,510.0,520.0,530.0,540.0,550.0,560.0,570.0,580.0,590.0,600.0,610.0,620.0,630.0,640.0,650.0,660.0,670.0,680.0,690.0,700.0,710.0,720.0,730.0,740.0],\"xaxis\":\"x\",\"y\":[0.514,0.5427,0.5649,0.5874,0.607,0.6218,0.6364,0.6487,0.658,0.667,0.6754,0.6818,0.6885,0.6934,0.7016,0.7074,0.7132,0.7193,0.7249,0.7306,0.734,0.741,0.7436,0.746,0.7507,0.7519,0.7559,0.7555,0.7588,0.7614,0.7634,0.7649,0.7652,0.7676,0.7684],\"yaxis\":\"y\",\"type\":\"scatter\"},{\"hovertemplate\":\"groups=06<br>wl=%{x}<br>sp=%{y}<extra></extra>\",\"legendgroup\":\"06\",\"line\":{\"color\":\"#EF553B\",\"dash\":\"solid\"},\"marker\":{\"symbol\":\"circle\"},\"mode\":\"lines\",\"name\":\"06\",\"orientation\":\"v\",\"showlegend\":true,\"x\":[400.0,410.0,420.0,430.0,440.0,450.0,460.0,470.0,480.0,490.0,500.0,510.0,520.0,530.0,540.0,550.0,560.0,570.0,580.0,590.0,600.0,610.0,620.0,630.0,640.0,650.0,660.0,670.0,680.0,690.0,700.0,710.0,720.0,730.0,740.0],\"xaxis\":\"x\",\"y\":[0.5854,0.6077,0.6241,0.6398,0.6516,0.6601,0.6685,0.674,0.6778,0.6824,0.6853,0.688,0.6911,0.6932,0.6982,0.7018,0.7058,0.7113,0.7157,0.7204,0.7223,0.7314,0.7328,0.7343,0.7369,0.7368,0.7389,0.7362,0.7382,0.74,0.7402,0.7412,0.7405,0.7421,0.7416],\"yaxis\":\"y\",\"type\":\"scatter\"},{\"hovertemplate\":\"groups=08<br>wl=%{x}<br>sp=%{y}<extra></extra>\",\"legendgroup\":\"08\",\"line\":{\"color\":\"#00cc96\",\"dash\":\"solid\"},\"marker\":{\"symbol\":\"circle\"},\"mode\":\"lines\",\"name\":\"08\",\"orientation\":\"v\",\"showlegend\":true,\"x\":[400.0,410.0,420.0,430.0,440.0,450.0,460.0,470.0,480.0,490.0,500.0,510.0,520.0,530.0,540.0,550.0,560.0,570.0,580.0,590.0,600.0,610.0,620.0,630.0,640.0,650.0,660.0,670.0,680.0,690.0,700.0,710.0,720.0,730.0,740.0],\"xaxis\":\"x\",\"y\":[0.5028,0.5302,0.5522,0.5742,0.5935,0.6089,0.6236,0.6354,0.6452,0.6542,0.6625,0.6696,0.676,0.6809,0.6889,0.6939,0.6997,0.706,0.711,0.7164,0.7195,0.7278,0.7304,0.7333,0.7372,0.739,0.7428,0.7426,0.7456,0.7488,0.7506,0.7522,0.7525,0.7548,0.7558],\"yaxis\":\"y\",\"type\":\"scatter\"},{\"hovertemplate\":\"groups=10<br>wl=%{x}<br>sp=%{y}<extra></extra>\",\"legendgroup\":\"10\",\"line\":{\"color\":\"#ab63fa\",\"dash\":\"solid\"},\"marker\":{\"symbol\":\"circle\"},\"mode\":\"lines\",\"name\":\"10\",\"orientation\":\"v\",\"showlegend\":true,\"x\":[400.0,410.0,420.0,430.0,440.0,450.0,460.0,470.0,480.0,490.0,500.0,510.0,520.0,530.0,540.0,550.0,560.0,570.0,580.0,590.0,600.0,610.0,620.0,630.0,640.0,650.0,660.0,670.0,680.0,690.0,700.0,710.0,720.0,730.0,740.0],\"xaxis\":\"x\",\"y\":[0.6064,0.6318,0.6506,0.6681,0.6817,0.6913,0.701,0.7082,0.7141,0.7202,0.7258,0.7301,0.7341,0.7365,0.7416,0.7444,0.7469,0.7507,0.753,0.7561,0.7568,0.7629,0.764,0.7657,0.7688,0.7691,0.7704,0.7676,0.7704,0.775,0.7776,0.7792,0.7792,0.7817,0.7822],\"yaxis\":\"y\",\"type\":\"scatter\"},{\"hovertemplate\":\"groups=12<br>wl=%{x}<br>sp=%{y}<extra></extra>\",\"legendgroup\":\"12\",\"line\":{\"color\":\"#FFA15A\",\"dash\":\"solid\"},\"marker\":{\"symbol\":\"circle\"},\"mode\":\"lines\",\"name\":\"12\",\"orientation\":\"v\",\"showlegend\":true,\"x\":[400.0,410.0,420.0,430.0,440.0,450.0,460.0,470.0,480.0,490.0,500.0,510.0,520.0,530.0,540.0,550.0,560.0,570.0,580.0,590.0,600.0,610.0,620.0,630.0,640.0,650.0,660.0,670.0,680.0,690.0,700.0,710.0,720.0,730.0,740.0],\"xaxis\":\"x\",\"y\":[0.5926,0.6166,0.6339,0.6505,0.6641,0.6736,0.6832,0.6907,0.6964,0.7025,0.708,0.7125,0.7165,0.7189,0.7242,0.7271,0.7299,0.7333,0.736,0.7392,0.7398,0.749,0.7504,0.7518,0.7555,0.7558,0.7571,0.7544,0.7574,0.7619,0.7647,0.7664,0.7665,0.769,0.7696],\"yaxis\":\"y\",\"type\":\"scatter\"}],                        {\"template\":{\"data\":{\"bar\":[{\"error_x\":{\"color\":\"#2a3f5f\"},\"error_y\":{\"color\":\"#2a3f5f\"},\"marker\":{\"line\":{\"color\":\"#E5ECF6\",\"width\":0.5},\"pattern\":{\"fillmode\":\"overlay\",\"size\":10,\"solidity\":0.2}},\"type\":\"bar\"}],\"barpolar\":[{\"marker\":{\"line\":{\"color\":\"#E5ECF6\",\"width\":0.5},\"pattern\":{\"fillmode\":\"overlay\",\"size\":10,\"solidity\":0.2}},\"type\":\"barpolar\"}],\"carpet\":[{\"aaxis\":{\"endlinecolor\":\"#2a3f5f\",\"gridcolor\":\"white\",\"linecolor\":\"white\",\"minorgridcolor\":\"white\",\"startlinecolor\":\"#2a3f5f\"},\"baxis\":{\"endlinecolor\":\"#2a3f5f\",\"gridcolor\":\"white\",\"linecolor\":\"white\",\"minorgridcolor\":\"white\",\"startlinecolor\":\"#2a3f5f\"},\"type\":\"carpet\"}],\"choropleth\":[{\"colorbar\":{\"outlinewidth\":0,\"ticks\":\"\"},\"type\":\"choropleth\"}],\"contour\":[{\"colorbar\":{\"outlinewidth\":0,\"ticks\":\"\"},\"colorscale\":[[0.0,\"#0d0887\"],[0.1111111111111111,\"#46039f\"],[0.2222222222222222,\"#7201a8\"],[0.3333333333333333,\"#9c179e\"],[0.4444444444444444,\"#bd3786\"],[0.5555555555555556,\"#d8576b\"],[0.6666666666666666,\"#ed7953\"],[0.7777777777777778,\"#fb9f3a\"],[0.8888888888888888,\"#fdca26\"],[1.0,\"#f0f921\"]],\"type\":\"contour\"}],\"contourcarpet\":[{\"colorbar\":{\"outlinewidth\":0,\"ticks\":\"\"},\"type\":\"contourcarpet\"}],\"heatmap\":[{\"colorbar\":{\"outlinewidth\":0,\"ticks\":\"\"},\"colorscale\":[[0.0,\"#0d0887\"],[0.1111111111111111,\"#46039f\"],[0.2222222222222222,\"#7201a8\"],[0.3333333333333333,\"#9c179e\"],[0.4444444444444444,\"#bd3786\"],[0.5555555555555556,\"#d8576b\"],[0.6666666666666666,\"#ed7953\"],[0.7777777777777778,\"#fb9f3a\"],[0.8888888888888888,\"#fdca26\"],[1.0,\"#f0f921\"]],\"type\":\"heatmap\"}],\"heatmapgl\":[{\"colorbar\":{\"outlinewidth\":0,\"ticks\":\"\"},\"colorscale\":[[0.0,\"#0d0887\"],[0.1111111111111111,\"#46039f\"],[0.2222222222222222,\"#7201a8\"],[0.3333333333333333,\"#9c179e\"],[0.4444444444444444,\"#bd3786\"],[0.5555555555555556,\"#d8576b\"],[0.6666666666666666,\"#ed7953\"],[0.7777777777777778,\"#fb9f3a\"],[0.8888888888888888,\"#fdca26\"],[1.0,\"#f0f921\"]],\"type\":\"heatmapgl\"}],\"histogram\":[{\"marker\":{\"pattern\":{\"fillmode\":\"overlay\",\"size\":10,\"solidity\":0.2}},\"type\":\"histogram\"}],\"histogram2d\":[{\"colorbar\":{\"outlinewidth\":0,\"ticks\":\"\"},\"colorscale\":[[0.0,\"#0d0887\"],[0.1111111111111111,\"#46039f\"],[0.2222222222222222,\"#7201a8\"],[0.3333333333333333,\"#9c179e\"],[0.4444444444444444,\"#bd3786\"],[0.5555555555555556,\"#d8576b\"],[0.6666666666666666,\"#ed7953\"],[0.7777777777777778,\"#fb9f3a\"],[0.8888888888888888,\"#fdca26\"],[1.0,\"#f0f921\"]],\"type\":\"histogram2d\"}],\"histogram2dcontour\":[{\"colorbar\":{\"outlinewidth\":0,\"ticks\":\"\"},\"colorscale\":[[0.0,\"#0d0887\"],[0.1111111111111111,\"#46039f\"],[0.2222222222222222,\"#7201a8\"],[0.3333333333333333,\"#9c179e\"],[0.4444444444444444,\"#bd3786\"],[0.5555555555555556,\"#d8576b\"],[0.6666666666666666,\"#ed7953\"],[0.7777777777777778,\"#fb9f3a\"],[0.8888888888888888,\"#fdca26\"],[1.0,\"#f0f921\"]],\"type\":\"histogram2dcontour\"}],\"mesh3d\":[{\"colorbar\":{\"outlinewidth\":0,\"ticks\":\"\"},\"type\":\"mesh3d\"}],\"parcoords\":[{\"line\":{\"colorbar\":{\"outlinewidth\":0,\"ticks\":\"\"}},\"type\":\"parcoords\"}],\"pie\":[{\"automargin\":true,\"type\":\"pie\"}],\"scatter\":[{\"marker\":{\"colorbar\":{\"outlinewidth\":0,\"ticks\":\"\"}},\"type\":\"scatter\"}],\"scatter3d\":[{\"line\":{\"colorbar\":{\"outlinewidth\":0,\"ticks\":\"\"}},\"marker\":{\"colorbar\":{\"outlinewidth\":0,\"ticks\":\"\"}},\"type\":\"scatter3d\"}],\"scattercarpet\":[{\"marker\":{\"colorbar\":{\"outlinewidth\":0,\"ticks\":\"\"}},\"type\":\"scattercarpet\"}],\"scattergeo\":[{\"marker\":{\"colorbar\":{\"outlinewidth\":0,\"ticks\":\"\"}},\"type\":\"scattergeo\"}],\"scattergl\":[{\"marker\":{\"colorbar\":{\"outlinewidth\":0,\"ticks\":\"\"}},\"type\":\"scattergl\"}],\"scattermapbox\":[{\"marker\":{\"colorbar\":{\"outlinewidth\":0,\"ticks\":\"\"}},\"type\":\"scattermapbox\"}],\"scatterpolar\":[{\"marker\":{\"colorbar\":{\"outlinewidth\":0,\"ticks\":\"\"}},\"type\":\"scatterpolar\"}],\"scatterpolargl\":[{\"marker\":{\"colorbar\":{\"outlinewidth\":0,\"ticks\":\"\"}},\"type\":\"scatterpolargl\"}],\"scatterternary\":[{\"marker\":{\"colorbar\":{\"outlinewidth\":0,\"ticks\":\"\"}},\"type\":\"scatterternary\"}],\"surface\":[{\"colorbar\":{\"outlinewidth\":0,\"ticks\":\"\"},\"colorscale\":[[0.0,\"#0d0887\"],[0.1111111111111111,\"#46039f\"],[0.2222222222222222,\"#7201a8\"],[0.3333333333333333,\"#9c179e\"],[0.4444444444444444,\"#bd3786\"],[0.5555555555555556,\"#d8576b\"],[0.6666666666666666,\"#ed7953\"],[0.7777777777777778,\"#fb9f3a\"],[0.8888888888888888,\"#fdca26\"],[1.0,\"#f0f921\"]],\"type\":\"surface\"}],\"table\":[{\"cells\":{\"fill\":{\"color\":\"#EBF0F8\"},\"line\":{\"color\":\"white\"}},\"header\":{\"fill\":{\"color\":\"#C8D4E3\"},\"line\":{\"color\":\"white\"}},\"type\":\"table\"}]},\"layout\":{\"annotationdefaults\":{\"arrowcolor\":\"#2a3f5f\",\"arrowhead\":0,\"arrowwidth\":1},\"autotypenumbers\":\"strict\",\"coloraxis\":{\"colorbar\":{\"outlinewidth\":0,\"ticks\":\"\"}},\"colorscale\":{\"diverging\":[[0,\"#8e0152\"],[0.1,\"#c51b7d\"],[0.2,\"#de77ae\"],[0.3,\"#f1b6da\"],[0.4,\"#fde0ef\"],[0.5,\"#f7f7f7\"],[0.6,\"#e6f5d0\"],[0.7,\"#b8e186\"],[0.8,\"#7fbc41\"],[0.9,\"#4d9221\"],[1,\"#276419\"]],\"sequential\":[[0.0,\"#0d0887\"],[0.1111111111111111,\"#46039f\"],[0.2222222222222222,\"#7201a8\"],[0.3333333333333333,\"#9c179e\"],[0.4444444444444444,\"#bd3786\"],[0.5555555555555556,\"#d8576b\"],[0.6666666666666666,\"#ed7953\"],[0.7777777777777778,\"#fb9f3a\"],[0.8888888888888888,\"#fdca26\"],[1.0,\"#f0f921\"]],\"sequentialminus\":[[0.0,\"#0d0887\"],[0.1111111111111111,\"#46039f\"],[0.2222222222222222,\"#7201a8\"],[0.3333333333333333,\"#9c179e\"],[0.4444444444444444,\"#bd3786\"],[0.5555555555555556,\"#d8576b\"],[0.6666666666666666,\"#ed7953\"],[0.7777777777777778,\"#fb9f3a\"],[0.8888888888888888,\"#fdca26\"],[1.0,\"#f0f921\"]]},\"colorway\":[\"#636efa\",\"#EF553B\",\"#00cc96\",\"#ab63fa\",\"#FFA15A\",\"#19d3f3\",\"#FF6692\",\"#B6E880\",\"#FF97FF\",\"#FECB52\"],\"font\":{\"color\":\"#2a3f5f\"},\"geo\":{\"bgcolor\":\"white\",\"lakecolor\":\"white\",\"landcolor\":\"#E5ECF6\",\"showlakes\":true,\"showland\":true,\"subunitcolor\":\"white\"},\"hoverlabel\":{\"align\":\"left\"},\"hovermode\":\"closest\",\"mapbox\":{\"style\":\"light\"},\"paper_bgcolor\":\"white\",\"plot_bgcolor\":\"#E5ECF6\",\"polar\":{\"angularaxis\":{\"gridcolor\":\"white\",\"linecolor\":\"white\",\"ticks\":\"\"},\"bgcolor\":\"#E5ECF6\",\"radialaxis\":{\"gridcolor\":\"white\",\"linecolor\":\"white\",\"ticks\":\"\"}},\"scene\":{\"xaxis\":{\"backgroundcolor\":\"#E5ECF6\",\"gridcolor\":\"white\",\"gridwidth\":2,\"linecolor\":\"white\",\"showbackground\":true,\"ticks\":\"\",\"zerolinecolor\":\"white\"},\"yaxis\":{\"backgroundcolor\":\"#E5ECF6\",\"gridcolor\":\"white\",\"gridwidth\":2,\"linecolor\":\"white\",\"showbackground\":true,\"ticks\":\"\",\"zerolinecolor\":\"white\"},\"zaxis\":{\"backgroundcolor\":\"#E5ECF6\",\"gridcolor\":\"white\",\"gridwidth\":2,\"linecolor\":\"white\",\"showbackground\":true,\"ticks\":\"\",\"zerolinecolor\":\"white\"}},\"shapedefaults\":{\"line\":{\"color\":\"#2a3f5f\"}},\"ternary\":{\"aaxis\":{\"gridcolor\":\"white\",\"linecolor\":\"white\",\"ticks\":\"\"},\"baxis\":{\"gridcolor\":\"white\",\"linecolor\":\"white\",\"ticks\":\"\"},\"bgcolor\":\"#E5ECF6\",\"caxis\":{\"gridcolor\":\"white\",\"linecolor\":\"white\",\"ticks\":\"\"}},\"title\":{\"x\":0.05},\"xaxis\":{\"automargin\":true,\"gridcolor\":\"white\",\"linecolor\":\"white\",\"ticks\":\"\",\"title\":{\"standoff\":15},\"zerolinecolor\":\"white\",\"zerolinewidth\":2},\"yaxis\":{\"automargin\":true,\"gridcolor\":\"white\",\"linecolor\":\"white\",\"ticks\":\"\",\"title\":{\"standoff\":15},\"zerolinecolor\":\"white\",\"zerolinewidth\":2}}},\"xaxis\":{\"anchor\":\"y\",\"domain\":[0.0,1.0],\"title\":{\"text\":\"Wavelength (nm)\"}},\"yaxis\":{\"anchor\":\"x\",\"domain\":[0.0,1.0],\"title\":{\"text\":\"Reflectance factor\"}},\"legend\":{\"title\":{\"text\":\"Groups\"},\"tracegroupgap\":0},\"margin\":{\"t\":60},\"font\":{\"family\":\"Droid Serif\",\"size\":22,\"color\":\"Black\"},\"autosize\":false,\"width\":1200,\"height\":600,\"title\":{\"text\":\"BEK 1858 P, white textile\"}},                        {\"responsive\": true}                    ).then(function(){\n",
       "                            \n",
       "var gd = document.getElementById('cecdac8a-f189-4da6-bf69-a55f3b3e7337');\n",
       "var x = new MutationObserver(function (mutations, observer) {{\n",
       "        var display = window.getComputedStyle(gd).display;\n",
       "        if (!display || display === 'none') {{\n",
       "            console.log([gd, 'removed!']);\n",
       "            Plotly.purge(gd);\n",
       "            observer.disconnect();\n",
       "        }}\n",
       "}});\n",
       "\n",
       "// Listen for the removal of the full notebook cells\n",
       "var notebookContainer = gd.closest('#notebook-container');\n",
       "if (notebookContainer) {{\n",
       "    x.observe(notebookContainer, {childList: true});\n",
       "}}\n",
       "\n",
       "// Listen for the clearing of the current output cell\n",
       "var outputEl = gd.closest('.output');\n",
       "if (outputEl) {{\n",
       "    x.observe(outputEl, {childList: true});\n",
       "}}\n",
       "\n",
       "                        })                };                });            </script>        </div>"
      ]
     },
     "metadata": {},
     "output_type": "display_data"
    }
   ],
   "source": [
    "df_RS_whites = pd.DataFrame()\n",
    "\n",
    "for file in files:\n",
    "    df = pd.read_csv(file, index_col='parameter')\n",
    "    color = df.loc['color']['value_mean']\n",
    "    \n",
    "    if color == 'white':\n",
    "    \n",
    "        group = df.loc['group']['value_mean'][-2:]\n",
    "        patroon = df_groups.loc[group]['patroons']\n",
    "        spectrum = df_groups.loc[group]['spectra']\n",
    "        \n",
    "        data_sp = df.loc['[MEASUREMENT DATA]':][6:].astype('float')\n",
    "\n",
    "        wl = data_sp.index.astype('float')\n",
    "        sp_mean = data_sp['value_mean']\n",
    "        sp_std = data_sp['value_std']\n",
    "        \n",
    "        df_data = pd.DataFrame(data = {'groups':group,'spectra':spectrum, 'wl':wl.values, 'sp':sp_mean.values})\n",
    "        df_RS_whites = pd.concat([df_RS_whites,df_data], axis=0)\n",
    "        \n",
    "        \n",
    "fig = px.line(df_RS_whites, x ='wl',y='sp', color='groups') \n",
    "\n",
    "fig.update_layout(\n",
    "    autosize=False,\n",
    "    width=1200,\n",
    "    height=600,\n",
    "    title=\"BEK 1858 P, white textile\",\n",
    "    xaxis_title=\"Wavelength (nm)\",\n",
    "    yaxis_title=\"Reflectance factor\",\n",
    "    legend_title=\"Groups\",\n",
    "    font=dict(\n",
    "        family=\"Droid Serif\",\n",
    "        size=22,\n",
    "        color=\"Black\"\n",
    "    )\n",
    ")\n",
    "\n",
    "fig.show() "
   ]
  },
  {
   "cell_type": "code",
   "execution_count": 22,
   "id": "2bd07555-3914-4cc4-be6b-9ac39bb62443",
   "metadata": {},
   "outputs": [
    {
     "data": {
      "application/vnd.plotly.v1+json": {
       "config": {
        "plotlyServerURL": "https://plot.ly"
       },
       "data": [
        {
         "hovertemplate": "spectra=A<br>groups=02<br>wl=%{x}<br>sp=%{y}<extra></extra>",
         "legendgroup": "A",
         "line": {
          "color": "#636efa",
          "dash": "solid"
         },
         "marker": {
          "symbol": "circle"
         },
         "mode": "lines",
         "name": "A",
         "orientation": "v",
         "showlegend": true,
         "type": "scatter",
         "x": [
          400,
          410,
          420,
          430,
          440,
          450,
          460,
          470,
          480,
          490,
          500,
          510,
          520,
          530,
          540,
          550,
          560,
          570,
          580,
          590,
          600,
          610,
          620,
          630,
          640,
          650,
          660,
          670,
          680,
          690,
          700,
          710,
          720,
          730,
          740
         ],
         "xaxis": "x",
         "y": [
          0.045,
          0.0445,
          0.043,
          0.0427,
          0.043,
          0.0419,
          0.0401,
          0.0377,
          0.0362,
          0.0352,
          0.0342,
          0.0329,
          0.0329,
          0.0336,
          0.0339,
          0.0333,
          0.0337,
          0.0354,
          0.0473,
          0.0961,
          0.2117,
          0.3702,
          0.4985,
          0.5708,
          0.6043,
          0.6197,
          0.6305,
          0.6363,
          0.6429,
          0.6488,
          0.6536,
          0.6563,
          0.658,
          0.6604,
          0.6615
         ],
         "yaxis": "y"
        },
        {
         "hovertemplate": "spectra=A<br>groups=15<br>wl=%{x}<br>sp=%{y}<extra></extra>",
         "legendgroup": "A",
         "line": {
          "color": "#636efa",
          "dash": "solid"
         },
         "marker": {
          "symbol": "circle"
         },
         "mode": "lines",
         "name": "A",
         "orientation": "v",
         "showlegend": false,
         "type": "scatter",
         "x": [
          400,
          410,
          420,
          430,
          440,
          450,
          460,
          470,
          480,
          490,
          500,
          510,
          520,
          530,
          540,
          550,
          560,
          570,
          580,
          590,
          600,
          610,
          620,
          630,
          640,
          650,
          660,
          670,
          680,
          690,
          700,
          710,
          720,
          730,
          740
         ],
         "xaxis": "x",
         "y": [
          0.0562,
          0.0558,
          0.0544,
          0.0543,
          0.0546,
          0.0533,
          0.0509,
          0.048,
          0.0456,
          0.0439,
          0.0428,
          0.041,
          0.0408,
          0.0416,
          0.0422,
          0.0416,
          0.0418,
          0.0437,
          0.0582,
          0.1085,
          0.2222,
          0.3814,
          0.5051,
          0.5739,
          0.6088,
          0.6241,
          0.6362,
          0.6434,
          0.6517,
          0.6592,
          0.665,
          0.6692,
          0.672,
          0.6764,
          0.6794
         ],
         "yaxis": "y"
        },
        {
         "hovertemplate": "spectra=A<br>groups=16<br>wl=%{x}<br>sp=%{y}<extra></extra>",
         "legendgroup": "A",
         "line": {
          "color": "#636efa",
          "dash": "solid"
         },
         "marker": {
          "symbol": "circle"
         },
         "mode": "lines",
         "name": "A",
         "orientation": "v",
         "showlegend": false,
         "type": "scatter",
         "x": [
          400,
          410,
          420,
          430,
          440,
          450,
          460,
          470,
          480,
          490,
          500,
          510,
          520,
          530,
          540,
          550,
          560,
          570,
          580,
          590,
          600,
          610,
          620,
          630,
          640,
          650,
          660,
          670,
          680,
          690,
          700,
          710,
          720,
          730,
          740
         ],
         "xaxis": "x",
         "y": [
          0.0577,
          0.0574,
          0.0557,
          0.0555,
          0.0558,
          0.0544,
          0.0521,
          0.0491,
          0.0465,
          0.0449,
          0.0437,
          0.042,
          0.0417,
          0.0424,
          0.043,
          0.0425,
          0.0425,
          0.0445,
          0.0587,
          0.1094,
          0.2232,
          0.3859,
          0.5148,
          0.5878,
          0.625,
          0.6419,
          0.6545,
          0.6622,
          0.6708,
          0.6789,
          0.6851,
          0.6898,
          0.693,
          0.6972,
          0.7005
         ],
         "yaxis": "y"
        },
        {
         "hovertemplate": "spectra=B<br>groups=03<br>wl=%{x}<br>sp=%{y}<extra></extra>",
         "legendgroup": "B",
         "line": {
          "color": "#EF553B",
          "dash": "solid"
         },
         "marker": {
          "symbol": "circle"
         },
         "mode": "lines",
         "name": "B",
         "orientation": "v",
         "showlegend": true,
         "type": "scatter",
         "x": [
          400,
          410,
          420,
          430,
          440,
          450,
          460,
          470,
          480,
          490,
          500,
          510,
          520,
          530,
          540,
          550,
          560,
          570,
          580,
          590,
          600,
          610,
          620,
          630,
          640,
          650,
          660,
          670,
          680,
          690,
          700,
          710,
          720,
          730,
          740
         ],
         "xaxis": "x",
         "y": [
          0.0322,
          0.037,
          0.0401,
          0.0427,
          0.0431,
          0.0399,
          0.0348,
          0.0303,
          0.0272,
          0.0253,
          0.0243,
          0.0236,
          0.0244,
          0.0259,
          0.028,
          0.0314,
          0.0399,
          0.056,
          0.0884,
          0.1444,
          0.2234,
          0.3219,
          0.4077,
          0.4677,
          0.5079,
          0.5392,
          0.5759,
          0.6139,
          0.6551,
          0.6902,
          0.7166,
          0.7341,
          0.745,
          0.7538,
          0.7591
         ],
         "yaxis": "y"
        },
        {
         "hovertemplate": "spectra=B<br>groups=05<br>wl=%{x}<br>sp=%{y}<extra></extra>",
         "legendgroup": "B",
         "line": {
          "color": "#EF553B",
          "dash": "solid"
         },
         "marker": {
          "symbol": "circle"
         },
         "mode": "lines",
         "name": "B",
         "orientation": "v",
         "showlegend": false,
         "type": "scatter",
         "x": [
          400,
          410,
          420,
          430,
          440,
          450,
          460,
          470,
          480,
          490,
          500,
          510,
          520,
          530,
          540,
          550,
          560,
          570,
          580,
          590,
          600,
          610,
          620,
          630,
          640,
          650,
          660,
          670,
          680,
          690,
          700,
          710,
          720,
          730,
          740
         ],
         "xaxis": "x",
         "y": [
          0.0269,
          0.0312,
          0.0338,
          0.036,
          0.0363,
          0.0332,
          0.0286,
          0.0248,
          0.0223,
          0.0209,
          0.0202,
          0.0197,
          0.0205,
          0.0219,
          0.0236,
          0.026,
          0.0327,
          0.0457,
          0.0732,
          0.1252,
          0.2042,
          0.3065,
          0.399,
          0.4627,
          0.5022,
          0.5295,
          0.5621,
          0.596,
          0.6337,
          0.6654,
          0.6881,
          0.7027,
          0.7107,
          0.7165,
          0.7188
         ],
         "yaxis": "y"
        },
        {
         "hovertemplate": "spectra=B<br>groups=07<br>wl=%{x}<br>sp=%{y}<extra></extra>",
         "legendgroup": "B",
         "line": {
          "color": "#EF553B",
          "dash": "solid"
         },
         "marker": {
          "symbol": "circle"
         },
         "mode": "lines",
         "name": "B",
         "orientation": "v",
         "showlegend": false,
         "type": "scatter",
         "x": [
          400,
          410,
          420,
          430,
          440,
          450,
          460,
          470,
          480,
          490,
          500,
          510,
          520,
          530,
          540,
          550,
          560,
          570,
          580,
          590,
          600,
          610,
          620,
          630,
          640,
          650,
          660,
          670,
          680,
          690,
          700,
          710,
          720,
          730,
          740
         ],
         "xaxis": "x",
         "y": [
          0.033,
          0.0379,
          0.0414,
          0.044,
          0.0444,
          0.0409,
          0.0355,
          0.0308,
          0.0275,
          0.0256,
          0.0245,
          0.0237,
          0.0246,
          0.0262,
          0.0286,
          0.0321,
          0.0409,
          0.0579,
          0.0917,
          0.1499,
          0.2324,
          0.334,
          0.4224,
          0.4836,
          0.5241,
          0.5545,
          0.5912,
          0.6282,
          0.6686,
          0.7021,
          0.7276,
          0.7434,
          0.753,
          0.7612,
          0.766
         ],
         "yaxis": "y"
        },
        {
         "hovertemplate": "spectra=C<br>groups=09<br>wl=%{x}<br>sp=%{y}<extra></extra>",
         "legendgroup": "C",
         "line": {
          "color": "#00cc96",
          "dash": "solid"
         },
         "marker": {
          "symbol": "circle"
         },
         "mode": "lines",
         "name": "C",
         "orientation": "v",
         "showlegend": true,
         "type": "scatter",
         "x": [
          400,
          410,
          420,
          430,
          440,
          450,
          460,
          470,
          480,
          490,
          500,
          510,
          520,
          530,
          540,
          550,
          560,
          570,
          580,
          590,
          600,
          610,
          620,
          630,
          640,
          650,
          660,
          670,
          680,
          690,
          700,
          710,
          720,
          730,
          740
         ],
         "xaxis": "x",
         "y": [
          0.0308,
          0.0323,
          0.0314,
          0.0315,
          0.0322,
          0.0315,
          0.0295,
          0.0269,
          0.0246,
          0.0228,
          0.0211,
          0.0195,
          0.0197,
          0.0203,
          0.0204,
          0.0204,
          0.0236,
          0.0342,
          0.0666,
          0.1302,
          0.2129,
          0.3061,
          0.3931,
          0.472,
          0.5403,
          0.595,
          0.6448,
          0.682,
          0.7111,
          0.7302,
          0.7422,
          0.7492,
          0.7532,
          0.7576,
          0.7603
         ],
         "yaxis": "y"
        },
        {
         "hovertemplate": "spectra=C<br>groups=11<br>wl=%{x}<br>sp=%{y}<extra></extra>",
         "legendgroup": "C",
         "line": {
          "color": "#00cc96",
          "dash": "solid"
         },
         "marker": {
          "symbol": "circle"
         },
         "mode": "lines",
         "name": "C",
         "orientation": "v",
         "showlegend": false,
         "type": "scatter",
         "x": [
          400,
          410,
          420,
          430,
          440,
          450,
          460,
          470,
          480,
          490,
          500,
          510,
          520,
          530,
          540,
          550,
          560,
          570,
          580,
          590,
          600,
          610,
          620,
          630,
          640,
          650,
          660,
          670,
          680,
          690,
          700,
          710,
          720,
          730,
          740
         ],
         "xaxis": "x",
         "y": [
          0.0305,
          0.032,
          0.0311,
          0.0313,
          0.0319,
          0.0311,
          0.0292,
          0.0267,
          0.0243,
          0.0227,
          0.0211,
          0.0196,
          0.0197,
          0.0204,
          0.0205,
          0.0204,
          0.0235,
          0.0335,
          0.065,
          0.1264,
          0.2077,
          0.301,
          0.3886,
          0.4694,
          0.5399,
          0.5966,
          0.6491,
          0.6884,
          0.7193,
          0.7398,
          0.7524,
          0.7597,
          0.7638,
          0.769,
          0.7716
         ],
         "yaxis": "y"
        },
        {
         "hovertemplate": "spectra=D<br>groups=01<br>wl=%{x}<br>sp=%{y}<extra></extra>",
         "legendgroup": "D",
         "line": {
          "color": "#ab63fa",
          "dash": "solid"
         },
         "marker": {
          "symbol": "circle"
         },
         "mode": "lines",
         "name": "D",
         "orientation": "v",
         "showlegend": true,
         "type": "scatter",
         "x": [
          400,
          410,
          420,
          430,
          440,
          450,
          460,
          470,
          480,
          490,
          500,
          510,
          520,
          530,
          540,
          550,
          560,
          570,
          580,
          590,
          600,
          610,
          620,
          630,
          640,
          650,
          660,
          670,
          680,
          690,
          700,
          710,
          720,
          730,
          740
         ],
         "xaxis": "x",
         "y": [
          0.0488,
          0.0583,
          0.0659,
          0.0702,
          0.0674,
          0.0584,
          0.0486,
          0.0405,
          0.0354,
          0.0324,
          0.0305,
          0.0294,
          0.0304,
          0.0326,
          0.0358,
          0.0404,
          0.0506,
          0.0716,
          0.1181,
          0.2014,
          0.3153,
          0.4395,
          0.5314,
          0.5851,
          0.6138,
          0.6341,
          0.6533,
          0.6689,
          0.6836,
          0.6952,
          0.7036,
          0.7088,
          0.712,
          0.7146,
          0.7159
         ],
         "yaxis": "y"
        },
        {
         "hovertemplate": "spectra=D<br>groups=13<br>wl=%{x}<br>sp=%{y}<extra></extra>",
         "legendgroup": "D",
         "line": {
          "color": "#ab63fa",
          "dash": "solid"
         },
         "marker": {
          "symbol": "circle"
         },
         "mode": "lines",
         "name": "D",
         "orientation": "v",
         "showlegend": false,
         "type": "scatter",
         "x": [
          400,
          410,
          420,
          430,
          440,
          450,
          460,
          470,
          480,
          490,
          500,
          510,
          520,
          530,
          540,
          550,
          560,
          570,
          580,
          590,
          600,
          610,
          620,
          630,
          640,
          650,
          660,
          670,
          680,
          690,
          700,
          710,
          720,
          730,
          740
         ],
         "xaxis": "x",
         "y": [
          0.0484,
          0.0578,
          0.0652,
          0.0694,
          0.0665,
          0.0573,
          0.0474,
          0.0396,
          0.0343,
          0.0312,
          0.0294,
          0.0282,
          0.0292,
          0.0314,
          0.0347,
          0.0392,
          0.0491,
          0.07,
          0.1165,
          0.1993,
          0.3128,
          0.4403,
          0.5344,
          0.5892,
          0.6202,
          0.6394,
          0.6589,
          0.6735,
          0.6887,
          0.7002,
          0.7078,
          0.7122,
          0.714,
          0.7172,
          0.7192
         ],
         "yaxis": "y"
        },
        {
         "hovertemplate": "spectra=D<br>groups=14<br>wl=%{x}<br>sp=%{y}<extra></extra>",
         "legendgroup": "D",
         "line": {
          "color": "#ab63fa",
          "dash": "solid"
         },
         "marker": {
          "symbol": "circle"
         },
         "mode": "lines",
         "name": "D",
         "orientation": "v",
         "showlegend": false,
         "type": "scatter",
         "x": [
          400,
          410,
          420,
          430,
          440,
          450,
          460,
          470,
          480,
          490,
          500,
          510,
          520,
          530,
          540,
          550,
          560,
          570,
          580,
          590,
          600,
          610,
          620,
          630,
          640,
          650,
          660,
          670,
          680,
          690,
          700,
          710,
          720,
          730,
          740
         ],
         "xaxis": "x",
         "y": [
          0.0484,
          0.0576,
          0.0648,
          0.0689,
          0.0659,
          0.057,
          0.0472,
          0.0395,
          0.0342,
          0.0312,
          0.0294,
          0.0283,
          0.0293,
          0.0316,
          0.035,
          0.0396,
          0.0499,
          0.0712,
          0.1184,
          0.2017,
          0.3142,
          0.4379,
          0.5274,
          0.5786,
          0.608,
          0.626,
          0.6445,
          0.658,
          0.6723,
          0.6831,
          0.6903,
          0.6947,
          0.6968,
          0.6999,
          0.7014
         ],
         "yaxis": "y"
        }
       ],
       "layout": {
        "autosize": false,
        "font": {
         "color": "Black",
         "family": "Droid Serif",
         "size": 22
        },
        "height": 600,
        "legend": {
         "title": {
          "text": "Spectra"
         },
         "tracegroupgap": 0
        },
        "margin": {
         "t": 60
        },
        "template": {
         "data": {
          "bar": [
           {
            "error_x": {
             "color": "#2a3f5f"
            },
            "error_y": {
             "color": "#2a3f5f"
            },
            "marker": {
             "line": {
              "color": "#E5ECF6",
              "width": 0.5
             },
             "pattern": {
              "fillmode": "overlay",
              "size": 10,
              "solidity": 0.2
             }
            },
            "type": "bar"
           }
          ],
          "barpolar": [
           {
            "marker": {
             "line": {
              "color": "#E5ECF6",
              "width": 0.5
             },
             "pattern": {
              "fillmode": "overlay",
              "size": 10,
              "solidity": 0.2
             }
            },
            "type": "barpolar"
           }
          ],
          "carpet": [
           {
            "aaxis": {
             "endlinecolor": "#2a3f5f",
             "gridcolor": "white",
             "linecolor": "white",
             "minorgridcolor": "white",
             "startlinecolor": "#2a3f5f"
            },
            "baxis": {
             "endlinecolor": "#2a3f5f",
             "gridcolor": "white",
             "linecolor": "white",
             "minorgridcolor": "white",
             "startlinecolor": "#2a3f5f"
            },
            "type": "carpet"
           }
          ],
          "choropleth": [
           {
            "colorbar": {
             "outlinewidth": 0,
             "ticks": ""
            },
            "type": "choropleth"
           }
          ],
          "contour": [
           {
            "colorbar": {
             "outlinewidth": 0,
             "ticks": ""
            },
            "colorscale": [
             [
              0,
              "#0d0887"
             ],
             [
              0.1111111111111111,
              "#46039f"
             ],
             [
              0.2222222222222222,
              "#7201a8"
             ],
             [
              0.3333333333333333,
              "#9c179e"
             ],
             [
              0.4444444444444444,
              "#bd3786"
             ],
             [
              0.5555555555555556,
              "#d8576b"
             ],
             [
              0.6666666666666666,
              "#ed7953"
             ],
             [
              0.7777777777777778,
              "#fb9f3a"
             ],
             [
              0.8888888888888888,
              "#fdca26"
             ],
             [
              1,
              "#f0f921"
             ]
            ],
            "type": "contour"
           }
          ],
          "contourcarpet": [
           {
            "colorbar": {
             "outlinewidth": 0,
             "ticks": ""
            },
            "type": "contourcarpet"
           }
          ],
          "heatmap": [
           {
            "colorbar": {
             "outlinewidth": 0,
             "ticks": ""
            },
            "colorscale": [
             [
              0,
              "#0d0887"
             ],
             [
              0.1111111111111111,
              "#46039f"
             ],
             [
              0.2222222222222222,
              "#7201a8"
             ],
             [
              0.3333333333333333,
              "#9c179e"
             ],
             [
              0.4444444444444444,
              "#bd3786"
             ],
             [
              0.5555555555555556,
              "#d8576b"
             ],
             [
              0.6666666666666666,
              "#ed7953"
             ],
             [
              0.7777777777777778,
              "#fb9f3a"
             ],
             [
              0.8888888888888888,
              "#fdca26"
             ],
             [
              1,
              "#f0f921"
             ]
            ],
            "type": "heatmap"
           }
          ],
          "heatmapgl": [
           {
            "colorbar": {
             "outlinewidth": 0,
             "ticks": ""
            },
            "colorscale": [
             [
              0,
              "#0d0887"
             ],
             [
              0.1111111111111111,
              "#46039f"
             ],
             [
              0.2222222222222222,
              "#7201a8"
             ],
             [
              0.3333333333333333,
              "#9c179e"
             ],
             [
              0.4444444444444444,
              "#bd3786"
             ],
             [
              0.5555555555555556,
              "#d8576b"
             ],
             [
              0.6666666666666666,
              "#ed7953"
             ],
             [
              0.7777777777777778,
              "#fb9f3a"
             ],
             [
              0.8888888888888888,
              "#fdca26"
             ],
             [
              1,
              "#f0f921"
             ]
            ],
            "type": "heatmapgl"
           }
          ],
          "histogram": [
           {
            "marker": {
             "pattern": {
              "fillmode": "overlay",
              "size": 10,
              "solidity": 0.2
             }
            },
            "type": "histogram"
           }
          ],
          "histogram2d": [
           {
            "colorbar": {
             "outlinewidth": 0,
             "ticks": ""
            },
            "colorscale": [
             [
              0,
              "#0d0887"
             ],
             [
              0.1111111111111111,
              "#46039f"
             ],
             [
              0.2222222222222222,
              "#7201a8"
             ],
             [
              0.3333333333333333,
              "#9c179e"
             ],
             [
              0.4444444444444444,
              "#bd3786"
             ],
             [
              0.5555555555555556,
              "#d8576b"
             ],
             [
              0.6666666666666666,
              "#ed7953"
             ],
             [
              0.7777777777777778,
              "#fb9f3a"
             ],
             [
              0.8888888888888888,
              "#fdca26"
             ],
             [
              1,
              "#f0f921"
             ]
            ],
            "type": "histogram2d"
           }
          ],
          "histogram2dcontour": [
           {
            "colorbar": {
             "outlinewidth": 0,
             "ticks": ""
            },
            "colorscale": [
             [
              0,
              "#0d0887"
             ],
             [
              0.1111111111111111,
              "#46039f"
             ],
             [
              0.2222222222222222,
              "#7201a8"
             ],
             [
              0.3333333333333333,
              "#9c179e"
             ],
             [
              0.4444444444444444,
              "#bd3786"
             ],
             [
              0.5555555555555556,
              "#d8576b"
             ],
             [
              0.6666666666666666,
              "#ed7953"
             ],
             [
              0.7777777777777778,
              "#fb9f3a"
             ],
             [
              0.8888888888888888,
              "#fdca26"
             ],
             [
              1,
              "#f0f921"
             ]
            ],
            "type": "histogram2dcontour"
           }
          ],
          "mesh3d": [
           {
            "colorbar": {
             "outlinewidth": 0,
             "ticks": ""
            },
            "type": "mesh3d"
           }
          ],
          "parcoords": [
           {
            "line": {
             "colorbar": {
              "outlinewidth": 0,
              "ticks": ""
             }
            },
            "type": "parcoords"
           }
          ],
          "pie": [
           {
            "automargin": true,
            "type": "pie"
           }
          ],
          "scatter": [
           {
            "marker": {
             "colorbar": {
              "outlinewidth": 0,
              "ticks": ""
             }
            },
            "type": "scatter"
           }
          ],
          "scatter3d": [
           {
            "line": {
             "colorbar": {
              "outlinewidth": 0,
              "ticks": ""
             }
            },
            "marker": {
             "colorbar": {
              "outlinewidth": 0,
              "ticks": ""
             }
            },
            "type": "scatter3d"
           }
          ],
          "scattercarpet": [
           {
            "marker": {
             "colorbar": {
              "outlinewidth": 0,
              "ticks": ""
             }
            },
            "type": "scattercarpet"
           }
          ],
          "scattergeo": [
           {
            "marker": {
             "colorbar": {
              "outlinewidth": 0,
              "ticks": ""
             }
            },
            "type": "scattergeo"
           }
          ],
          "scattergl": [
           {
            "marker": {
             "colorbar": {
              "outlinewidth": 0,
              "ticks": ""
             }
            },
            "type": "scattergl"
           }
          ],
          "scattermapbox": [
           {
            "marker": {
             "colorbar": {
              "outlinewidth": 0,
              "ticks": ""
             }
            },
            "type": "scattermapbox"
           }
          ],
          "scatterpolar": [
           {
            "marker": {
             "colorbar": {
              "outlinewidth": 0,
              "ticks": ""
             }
            },
            "type": "scatterpolar"
           }
          ],
          "scatterpolargl": [
           {
            "marker": {
             "colorbar": {
              "outlinewidth": 0,
              "ticks": ""
             }
            },
            "type": "scatterpolargl"
           }
          ],
          "scatterternary": [
           {
            "marker": {
             "colorbar": {
              "outlinewidth": 0,
              "ticks": ""
             }
            },
            "type": "scatterternary"
           }
          ],
          "surface": [
           {
            "colorbar": {
             "outlinewidth": 0,
             "ticks": ""
            },
            "colorscale": [
             [
              0,
              "#0d0887"
             ],
             [
              0.1111111111111111,
              "#46039f"
             ],
             [
              0.2222222222222222,
              "#7201a8"
             ],
             [
              0.3333333333333333,
              "#9c179e"
             ],
             [
              0.4444444444444444,
              "#bd3786"
             ],
             [
              0.5555555555555556,
              "#d8576b"
             ],
             [
              0.6666666666666666,
              "#ed7953"
             ],
             [
              0.7777777777777778,
              "#fb9f3a"
             ],
             [
              0.8888888888888888,
              "#fdca26"
             ],
             [
              1,
              "#f0f921"
             ]
            ],
            "type": "surface"
           }
          ],
          "table": [
           {
            "cells": {
             "fill": {
              "color": "#EBF0F8"
             },
             "line": {
              "color": "white"
             }
            },
            "header": {
             "fill": {
              "color": "#C8D4E3"
             },
             "line": {
              "color": "white"
             }
            },
            "type": "table"
           }
          ]
         },
         "layout": {
          "annotationdefaults": {
           "arrowcolor": "#2a3f5f",
           "arrowhead": 0,
           "arrowwidth": 1
          },
          "autotypenumbers": "strict",
          "coloraxis": {
           "colorbar": {
            "outlinewidth": 0,
            "ticks": ""
           }
          },
          "colorscale": {
           "diverging": [
            [
             0,
             "#8e0152"
            ],
            [
             0.1,
             "#c51b7d"
            ],
            [
             0.2,
             "#de77ae"
            ],
            [
             0.3,
             "#f1b6da"
            ],
            [
             0.4,
             "#fde0ef"
            ],
            [
             0.5,
             "#f7f7f7"
            ],
            [
             0.6,
             "#e6f5d0"
            ],
            [
             0.7,
             "#b8e186"
            ],
            [
             0.8,
             "#7fbc41"
            ],
            [
             0.9,
             "#4d9221"
            ],
            [
             1,
             "#276419"
            ]
           ],
           "sequential": [
            [
             0,
             "#0d0887"
            ],
            [
             0.1111111111111111,
             "#46039f"
            ],
            [
             0.2222222222222222,
             "#7201a8"
            ],
            [
             0.3333333333333333,
             "#9c179e"
            ],
            [
             0.4444444444444444,
             "#bd3786"
            ],
            [
             0.5555555555555556,
             "#d8576b"
            ],
            [
             0.6666666666666666,
             "#ed7953"
            ],
            [
             0.7777777777777778,
             "#fb9f3a"
            ],
            [
             0.8888888888888888,
             "#fdca26"
            ],
            [
             1,
             "#f0f921"
            ]
           ],
           "sequentialminus": [
            [
             0,
             "#0d0887"
            ],
            [
             0.1111111111111111,
             "#46039f"
            ],
            [
             0.2222222222222222,
             "#7201a8"
            ],
            [
             0.3333333333333333,
             "#9c179e"
            ],
            [
             0.4444444444444444,
             "#bd3786"
            ],
            [
             0.5555555555555556,
             "#d8576b"
            ],
            [
             0.6666666666666666,
             "#ed7953"
            ],
            [
             0.7777777777777778,
             "#fb9f3a"
            ],
            [
             0.8888888888888888,
             "#fdca26"
            ],
            [
             1,
             "#f0f921"
            ]
           ]
          },
          "colorway": [
           "#636efa",
           "#EF553B",
           "#00cc96",
           "#ab63fa",
           "#FFA15A",
           "#19d3f3",
           "#FF6692",
           "#B6E880",
           "#FF97FF",
           "#FECB52"
          ],
          "font": {
           "color": "#2a3f5f"
          },
          "geo": {
           "bgcolor": "white",
           "lakecolor": "white",
           "landcolor": "#E5ECF6",
           "showlakes": true,
           "showland": true,
           "subunitcolor": "white"
          },
          "hoverlabel": {
           "align": "left"
          },
          "hovermode": "closest",
          "mapbox": {
           "style": "light"
          },
          "paper_bgcolor": "white",
          "plot_bgcolor": "#E5ECF6",
          "polar": {
           "angularaxis": {
            "gridcolor": "white",
            "linecolor": "white",
            "ticks": ""
           },
           "bgcolor": "#E5ECF6",
           "radialaxis": {
            "gridcolor": "white",
            "linecolor": "white",
            "ticks": ""
           }
          },
          "scene": {
           "xaxis": {
            "backgroundcolor": "#E5ECF6",
            "gridcolor": "white",
            "gridwidth": 2,
            "linecolor": "white",
            "showbackground": true,
            "ticks": "",
            "zerolinecolor": "white"
           },
           "yaxis": {
            "backgroundcolor": "#E5ECF6",
            "gridcolor": "white",
            "gridwidth": 2,
            "linecolor": "white",
            "showbackground": true,
            "ticks": "",
            "zerolinecolor": "white"
           },
           "zaxis": {
            "backgroundcolor": "#E5ECF6",
            "gridcolor": "white",
            "gridwidth": 2,
            "linecolor": "white",
            "showbackground": true,
            "ticks": "",
            "zerolinecolor": "white"
           }
          },
          "shapedefaults": {
           "line": {
            "color": "#2a3f5f"
           }
          },
          "ternary": {
           "aaxis": {
            "gridcolor": "white",
            "linecolor": "white",
            "ticks": ""
           },
           "baxis": {
            "gridcolor": "white",
            "linecolor": "white",
            "ticks": ""
           },
           "bgcolor": "#E5ECF6",
           "caxis": {
            "gridcolor": "white",
            "linecolor": "white",
            "ticks": ""
           }
          },
          "title": {
           "x": 0.05
          },
          "xaxis": {
           "automargin": true,
           "gridcolor": "white",
           "linecolor": "white",
           "ticks": "",
           "title": {
            "standoff": 15
           },
           "zerolinecolor": "white",
           "zerolinewidth": 2
          },
          "yaxis": {
           "automargin": true,
           "gridcolor": "white",
           "linecolor": "white",
           "ticks": "",
           "title": {
            "standoff": 15
           },
           "zerolinecolor": "white",
           "zerolinewidth": 2
          }
         }
        },
        "title": {
         "text": "BEK 1858 P, red dots"
        },
        "width": 1200,
        "xaxis": {
         "anchor": "y",
         "autorange": true,
         "domain": [
          0,
          1
         ],
         "range": [
          400,
          740
         ],
         "title": {
          "text": "Wavelength (nm)"
         },
         "type": "linear"
        },
        "yaxis": {
         "anchor": "x",
         "autorange": true,
         "domain": [
          0,
          1
         ],
         "range": [
          -0.022283333333333332,
          0.8133833333333332
         ],
         "title": {
          "text": "Reflectance factor"
         },
         "type": "linear"
        }
       }
      },
      "image/png": "[encoded data removed]",
      "text/html": [
       "<div>                            <div id=\"2303d235-79fb-47fc-b105-b71fc2ab1338\" class=\"plotly-graph-div\" style=\"height:600px; width:1200px;\"></div>            <script type=\"text/javascript\">                require([\"plotly\"], function(Plotly) {                    window.PLOTLYENV=window.PLOTLYENV || {};                                    if (document.getElementById(\"2303d235-79fb-47fc-b105-b71fc2ab1338\")) {                    Plotly.newPlot(                        \"2303d235-79fb-47fc-b105-b71fc2ab1338\",                        [{\"hovertemplate\":\"spectra=A<br>groups=02<br>wl=%{x}<br>sp=%{y}<extra></extra>\",\"legendgroup\":\"A\",\"line\":{\"color\":\"#636efa\",\"dash\":\"solid\"},\"marker\":{\"symbol\":\"circle\"},\"mode\":\"lines\",\"name\":\"A\",\"orientation\":\"v\",\"showlegend\":true,\"x\":[400.0,410.0,420.0,430.0,440.0,450.0,460.0,470.0,480.0,490.0,500.0,510.0,520.0,530.0,540.0,550.0,560.0,570.0,580.0,590.0,600.0,610.0,620.0,630.0,640.0,650.0,660.0,670.0,680.0,690.0,700.0,710.0,720.0,730.0,740.0],\"xaxis\":\"x\",\"y\":[0.045,0.0445,0.043,0.0427,0.043,0.0419,0.0401,0.0377,0.0362,0.0352,0.0342,0.0329,0.0329,0.0336,0.0339,0.0333,0.0337,0.0354,0.0473,0.0961,0.2117,0.3702,0.4985,0.5708,0.6043,0.6197,0.6305,0.6363,0.6429,0.6488,0.6536,0.6563,0.658,0.6604,0.6615],\"yaxis\":\"y\",\"type\":\"scatter\"},{\"hovertemplate\":\"spectra=A<br>groups=15<br>wl=%{x}<br>sp=%{y}<extra></extra>\",\"legendgroup\":\"A\",\"line\":{\"color\":\"#636efa\",\"dash\":\"solid\"},\"marker\":{\"symbol\":\"circle\"},\"mode\":\"lines\",\"name\":\"A\",\"orientation\":\"v\",\"showlegend\":false,\"x\":[400.0,410.0,420.0,430.0,440.0,450.0,460.0,470.0,480.0,490.0,500.0,510.0,520.0,530.0,540.0,550.0,560.0,570.0,580.0,590.0,600.0,610.0,620.0,630.0,640.0,650.0,660.0,670.0,680.0,690.0,700.0,710.0,720.0,730.0,740.0],\"xaxis\":\"x\",\"y\":[0.0562,0.0558,0.0544,0.0543,0.0546,0.0533,0.0509,0.048,0.0456,0.0439,0.0428,0.041,0.0408,0.0416,0.0422,0.0416,0.0418,0.0437,0.0582,0.1085,0.2222,0.3814,0.5051,0.5739,0.6088,0.6241,0.6362,0.6434,0.6517,0.6592,0.665,0.6692,0.672,0.6764,0.6794],\"yaxis\":\"y\",\"type\":\"scatter\"},{\"hovertemplate\":\"spectra=A<br>groups=16<br>wl=%{x}<br>sp=%{y}<extra></extra>\",\"legendgroup\":\"A\",\"line\":{\"color\":\"#636efa\",\"dash\":\"solid\"},\"marker\":{\"symbol\":\"circle\"},\"mode\":\"lines\",\"name\":\"A\",\"orientation\":\"v\",\"showlegend\":false,\"x\":[400.0,410.0,420.0,430.0,440.0,450.0,460.0,470.0,480.0,490.0,500.0,510.0,520.0,530.0,540.0,550.0,560.0,570.0,580.0,590.0,600.0,610.0,620.0,630.0,640.0,650.0,660.0,670.0,680.0,690.0,700.0,710.0,720.0,730.0,740.0],\"xaxis\":\"x\",\"y\":[0.0577,0.0574,0.0557,0.0555,0.0558,0.0544,0.0521,0.0491,0.0465,0.0449,0.0437,0.042,0.0417,0.0424,0.043,0.0425,0.0425,0.0445,0.0587,0.1094,0.2232,0.3859,0.5148,0.5878,0.625,0.6419,0.6545,0.6622,0.6708,0.6789,0.6851,0.6898,0.693,0.6972,0.7005],\"yaxis\":\"y\",\"type\":\"scatter\"},{\"hovertemplate\":\"spectra=B<br>groups=03<br>wl=%{x}<br>sp=%{y}<extra></extra>\",\"legendgroup\":\"B\",\"line\":{\"color\":\"#EF553B\",\"dash\":\"solid\"},\"marker\":{\"symbol\":\"circle\"},\"mode\":\"lines\",\"name\":\"B\",\"orientation\":\"v\",\"showlegend\":true,\"x\":[400.0,410.0,420.0,430.0,440.0,450.0,460.0,470.0,480.0,490.0,500.0,510.0,520.0,530.0,540.0,550.0,560.0,570.0,580.0,590.0,600.0,610.0,620.0,630.0,640.0,650.0,660.0,670.0,680.0,690.0,700.0,710.0,720.0,730.0,740.0],\"xaxis\":\"x\",\"y\":[0.0322,0.037,0.0401,0.0427,0.0431,0.0399,0.0348,0.0303,0.0272,0.0253,0.0243,0.0236,0.0244,0.0259,0.028,0.0314,0.0399,0.056,0.0884,0.1444,0.2234,0.3219,0.4077,0.4677,0.5079,0.5392,0.5759,0.6139,0.6551,0.6902,0.7166,0.7341,0.745,0.7538,0.7591],\"yaxis\":\"y\",\"type\":\"scatter\"},{\"hovertemplate\":\"spectra=B<br>groups=05<br>wl=%{x}<br>sp=%{y}<extra></extra>\",\"legendgroup\":\"B\",\"line\":{\"color\":\"#EF553B\",\"dash\":\"solid\"},\"marker\":{\"symbol\":\"circle\"},\"mode\":\"lines\",\"name\":\"B\",\"orientation\":\"v\",\"showlegend\":false,\"x\":[400.0,410.0,420.0,430.0,440.0,450.0,460.0,470.0,480.0,490.0,500.0,510.0,520.0,530.0,540.0,550.0,560.0,570.0,580.0,590.0,600.0,610.0,620.0,630.0,640.0,650.0,660.0,670.0,680.0,690.0,700.0,710.0,720.0,730.0,740.0],\"xaxis\":\"x\",\"y\":[0.0269,0.0312,0.0338,0.036,0.0363,0.0332,0.0286,0.0248,0.0223,0.0209,0.0202,0.0197,0.0205,0.0219,0.0236,0.026,0.0327,0.0457,0.0732,0.1252,0.2042,0.3065,0.399,0.4627,0.5022,0.5295,0.5621,0.596,0.6337,0.6654,0.6881,0.7027,0.7107,0.7165,0.7188],\"yaxis\":\"y\",\"type\":\"scatter\"},{\"hovertemplate\":\"spectra=B<br>groups=07<br>wl=%{x}<br>sp=%{y}<extra></extra>\",\"legendgroup\":\"B\",\"line\":{\"color\":\"#EF553B\",\"dash\":\"solid\"},\"marker\":{\"symbol\":\"circle\"},\"mode\":\"lines\",\"name\":\"B\",\"orientation\":\"v\",\"showlegend\":false,\"x\":[400.0,410.0,420.0,430.0,440.0,450.0,460.0,470.0,480.0,490.0,500.0,510.0,520.0,530.0,540.0,550.0,560.0,570.0,580.0,590.0,600.0,610.0,620.0,630.0,640.0,650.0,660.0,670.0,680.0,690.0,700.0,710.0,720.0,730.0,740.0],\"xaxis\":\"x\",\"y\":[0.033,0.0379,0.0414,0.044,0.0444,0.0409,0.0355,0.0308,0.0275,0.0256,0.0245,0.0237,0.0246,0.0262,0.0286,0.0321,0.0409,0.0579,0.0917,0.1499,0.2324,0.334,0.4224,0.4836,0.5241,0.5545,0.5912,0.6282,0.6686,0.7021,0.7276,0.7434,0.753,0.7612,0.766],\"yaxis\":\"y\",\"type\":\"scatter\"},{\"hovertemplate\":\"spectra=C<br>groups=09<br>wl=%{x}<br>sp=%{y}<extra></extra>\",\"legendgroup\":\"C\",\"line\":{\"color\":\"#00cc96\",\"dash\":\"solid\"},\"marker\":{\"symbol\":\"circle\"},\"mode\":\"lines\",\"name\":\"C\",\"orientation\":\"v\",\"showlegend\":true,\"x\":[400.0,410.0,420.0,430.0,440.0,450.0,460.0,470.0,480.0,490.0,500.0,510.0,520.0,530.0,540.0,550.0,560.0,570.0,580.0,590.0,600.0,610.0,620.0,630.0,640.0,650.0,660.0,670.0,680.0,690.0,700.0,710.0,720.0,730.0,740.0],\"xaxis\":\"x\",\"y\":[0.0308,0.0323,0.0314,0.0315,0.0322,0.0315,0.0295,0.0269,0.0246,0.0228,0.0211,0.0195,0.0197,0.0203,0.0204,0.0204,0.0236,0.0342,0.0666,0.1302,0.2129,0.3061,0.3931,0.472,0.5403,0.595,0.6448,0.682,0.7111,0.7302,0.7422,0.7492,0.7532,0.7576,0.7603],\"yaxis\":\"y\",\"type\":\"scatter\"},{\"hovertemplate\":\"spectra=C<br>groups=11<br>wl=%{x}<br>sp=%{y}<extra></extra>\",\"legendgroup\":\"C\",\"line\":{\"color\":\"#00cc96\",\"dash\":\"solid\"},\"marker\":{\"symbol\":\"circle\"},\"mode\":\"lines\",\"name\":\"C\",\"orientation\":\"v\",\"showlegend\":false,\"x\":[400.0,410.0,420.0,430.0,440.0,450.0,460.0,470.0,480.0,490.0,500.0,510.0,520.0,530.0,540.0,550.0,560.0,570.0,580.0,590.0,600.0,610.0,620.0,630.0,640.0,650.0,660.0,670.0,680.0,690.0,700.0,710.0,720.0,730.0,740.0],\"xaxis\":\"x\",\"y\":[0.0305,0.032,0.0311,0.0313,0.0319,0.0311,0.0292,0.0267,0.0243,0.0227,0.0211,0.0196,0.0197,0.0204,0.0205,0.0204,0.0235,0.0335,0.065,0.1264,0.2077,0.301,0.3886,0.4694,0.5399,0.5966,0.6491,0.6884,0.7193,0.7398,0.7524,0.7597,0.7638,0.769,0.7716],\"yaxis\":\"y\",\"type\":\"scatter\"},{\"hovertemplate\":\"spectra=D<br>groups=01<br>wl=%{x}<br>sp=%{y}<extra></extra>\",\"legendgroup\":\"D\",\"line\":{\"color\":\"#ab63fa\",\"dash\":\"solid\"},\"marker\":{\"symbol\":\"circle\"},\"mode\":\"lines\",\"name\":\"D\",\"orientation\":\"v\",\"showlegend\":true,\"x\":[400.0,410.0,420.0,430.0,440.0,450.0,460.0,470.0,480.0,490.0,500.0,510.0,520.0,530.0,540.0,550.0,560.0,570.0,580.0,590.0,600.0,610.0,620.0,630.0,640.0,650.0,660.0,670.0,680.0,690.0,700.0,710.0,720.0,730.0,740.0],\"xaxis\":\"x\",\"y\":[0.0488,0.0583,0.0659,0.0702,0.0674,0.0584,0.0486,0.0405,0.0354,0.0324,0.0305,0.0294,0.0304,0.0326,0.0358,0.0404,0.0506,0.0716,0.1181,0.2014,0.3153,0.4395,0.5314,0.5851,0.6138,0.6341,0.6533,0.6689,0.6836,0.6952,0.7036,0.7088,0.712,0.7146,0.7159],\"yaxis\":\"y\",\"type\":\"scatter\"},{\"hovertemplate\":\"spectra=D<br>groups=13<br>wl=%{x}<br>sp=%{y}<extra></extra>\",\"legendgroup\":\"D\",\"line\":{\"color\":\"#ab63fa\",\"dash\":\"solid\"},\"marker\":{\"symbol\":\"circle\"},\"mode\":\"lines\",\"name\":\"D\",\"orientation\":\"v\",\"showlegend\":false,\"x\":[400.0,410.0,420.0,430.0,440.0,450.0,460.0,470.0,480.0,490.0,500.0,510.0,520.0,530.0,540.0,550.0,560.0,570.0,580.0,590.0,600.0,610.0,620.0,630.0,640.0,650.0,660.0,670.0,680.0,690.0,700.0,710.0,720.0,730.0,740.0],\"xaxis\":\"x\",\"y\":[0.0484,0.0578,0.0652,0.0694,0.0665,0.0573,0.0474,0.0396,0.0343,0.0312,0.0294,0.0282,0.0292,0.0314,0.0347,0.0392,0.0491,0.07,0.1165,0.1993,0.3128,0.4403,0.5344,0.5892,0.6202,0.6394,0.6589,0.6735,0.6887,0.7002,0.7078,0.7122,0.714,0.7172,0.7192],\"yaxis\":\"y\",\"type\":\"scatter\"},{\"hovertemplate\":\"spectra=D<br>groups=14<br>wl=%{x}<br>sp=%{y}<extra></extra>\",\"legendgroup\":\"D\",\"line\":{\"color\":\"#ab63fa\",\"dash\":\"solid\"},\"marker\":{\"symbol\":\"circle\"},\"mode\":\"lines\",\"name\":\"D\",\"orientation\":\"v\",\"showlegend\":false,\"x\":[400.0,410.0,420.0,430.0,440.0,450.0,460.0,470.0,480.0,490.0,500.0,510.0,520.0,530.0,540.0,550.0,560.0,570.0,580.0,590.0,600.0,610.0,620.0,630.0,640.0,650.0,660.0,670.0,680.0,690.0,700.0,710.0,720.0,730.0,740.0],\"xaxis\":\"x\",\"y\":[0.0484,0.0576,0.0648,0.0689,0.0659,0.057,0.0472,0.0395,0.0342,0.0312,0.0294,0.0283,0.0293,0.0316,0.035,0.0396,0.0499,0.0712,0.1184,0.2017,0.3142,0.4379,0.5274,0.5786,0.608,0.626,0.6445,0.658,0.6723,0.6831,0.6903,0.6947,0.6968,0.6999,0.7014],\"yaxis\":\"y\",\"type\":\"scatter\"}],                        {\"template\":{\"data\":{\"bar\":[{\"error_x\":{\"color\":\"#2a3f5f\"},\"error_y\":{\"color\":\"#2a3f5f\"},\"marker\":{\"line\":{\"color\":\"#E5ECF6\",\"width\":0.5},\"pattern\":{\"fillmode\":\"overlay\",\"size\":10,\"solidity\":0.2}},\"type\":\"bar\"}],\"barpolar\":[{\"marker\":{\"line\":{\"color\":\"#E5ECF6\",\"width\":0.5},\"pattern\":{\"fillmode\":\"overlay\",\"size\":10,\"solidity\":0.2}},\"type\":\"barpolar\"}],\"carpet\":[{\"aaxis\":{\"endlinecolor\":\"#2a3f5f\",\"gridcolor\":\"white\",\"linecolor\":\"white\",\"minorgridcolor\":\"white\",\"startlinecolor\":\"#2a3f5f\"},\"baxis\":{\"endlinecolor\":\"#2a3f5f\",\"gridcolor\":\"white\",\"linecolor\":\"white\",\"minorgridcolor\":\"white\",\"startlinecolor\":\"#2a3f5f\"},\"type\":\"carpet\"}],\"choropleth\":[{\"colorbar\":{\"outlinewidth\":0,\"ticks\":\"\"},\"type\":\"choropleth\"}],\"contour\":[{\"colorbar\":{\"outlinewidth\":0,\"ticks\":\"\"},\"colorscale\":[[0.0,\"#0d0887\"],[0.1111111111111111,\"#46039f\"],[0.2222222222222222,\"#7201a8\"],[0.3333333333333333,\"#9c179e\"],[0.4444444444444444,\"#bd3786\"],[0.5555555555555556,\"#d8576b\"],[0.6666666666666666,\"#ed7953\"],[0.7777777777777778,\"#fb9f3a\"],[0.8888888888888888,\"#fdca26\"],[1.0,\"#f0f921\"]],\"type\":\"contour\"}],\"contourcarpet\":[{\"colorbar\":{\"outlinewidth\":0,\"ticks\":\"\"},\"type\":\"contourcarpet\"}],\"heatmap\":[{\"colorbar\":{\"outlinewidth\":0,\"ticks\":\"\"},\"colorscale\":[[0.0,\"#0d0887\"],[0.1111111111111111,\"#46039f\"],[0.2222222222222222,\"#7201a8\"],[0.3333333333333333,\"#9c179e\"],[0.4444444444444444,\"#bd3786\"],[0.5555555555555556,\"#d8576b\"],[0.6666666666666666,\"#ed7953\"],[0.7777777777777778,\"#fb9f3a\"],[0.8888888888888888,\"#fdca26\"],[1.0,\"#f0f921\"]],\"type\":\"heatmap\"}],\"heatmapgl\":[{\"colorbar\":{\"outlinewidth\":0,\"ticks\":\"\"},\"colorscale\":[[0.0,\"#0d0887\"],[0.1111111111111111,\"#46039f\"],[0.2222222222222222,\"#7201a8\"],[0.3333333333333333,\"#9c179e\"],[0.4444444444444444,\"#bd3786\"],[0.5555555555555556,\"#d8576b\"],[0.6666666666666666,\"#ed7953\"],[0.7777777777777778,\"#fb9f3a\"],[0.8888888888888888,\"#fdca26\"],[1.0,\"#f0f921\"]],\"type\":\"heatmapgl\"}],\"histogram\":[{\"marker\":{\"pattern\":{\"fillmode\":\"overlay\",\"size\":10,\"solidity\":0.2}},\"type\":\"histogram\"}],\"histogram2d\":[{\"colorbar\":{\"outlinewidth\":0,\"ticks\":\"\"},\"colorscale\":[[0.0,\"#0d0887\"],[0.1111111111111111,\"#46039f\"],[0.2222222222222222,\"#7201a8\"],[0.3333333333333333,\"#9c179e\"],[0.4444444444444444,\"#bd3786\"],[0.5555555555555556,\"#d8576b\"],[0.6666666666666666,\"#ed7953\"],[0.7777777777777778,\"#fb9f3a\"],[0.8888888888888888,\"#fdca26\"],[1.0,\"#f0f921\"]],\"type\":\"histogram2d\"}],\"histogram2dcontour\":[{\"colorbar\":{\"outlinewidth\":0,\"ticks\":\"\"},\"colorscale\":[[0.0,\"#0d0887\"],[0.1111111111111111,\"#46039f\"],[0.2222222222222222,\"#7201a8\"],[0.3333333333333333,\"#9c179e\"],[0.4444444444444444,\"#bd3786\"],[0.5555555555555556,\"#d8576b\"],[0.6666666666666666,\"#ed7953\"],[0.7777777777777778,\"#fb9f3a\"],[0.8888888888888888,\"#fdca26\"],[1.0,\"#f0f921\"]],\"type\":\"histogram2dcontour\"}],\"mesh3d\":[{\"colorbar\":{\"outlinewidth\":0,\"ticks\":\"\"},\"type\":\"mesh3d\"}],\"parcoords\":[{\"line\":{\"colorbar\":{\"outlinewidth\":0,\"ticks\":\"\"}},\"type\":\"parcoords\"}],\"pie\":[{\"automargin\":true,\"type\":\"pie\"}],\"scatter\":[{\"marker\":{\"colorbar\":{\"outlinewidth\":0,\"ticks\":\"\"}},\"type\":\"scatter\"}],\"scatter3d\":[{\"line\":{\"colorbar\":{\"outlinewidth\":0,\"ticks\":\"\"}},\"marker\":{\"colorbar\":{\"outlinewidth\":0,\"ticks\":\"\"}},\"type\":\"scatter3d\"}],\"scattercarpet\":[{\"marker\":{\"colorbar\":{\"outlinewidth\":0,\"ticks\":\"\"}},\"type\":\"scattercarpet\"}],\"scattergeo\":[{\"marker\":{\"colorbar\":{\"outlinewidth\":0,\"ticks\":\"\"}},\"type\":\"scattergeo\"}],\"scattergl\":[{\"marker\":{\"colorbar\":{\"outlinewidth\":0,\"ticks\":\"\"}},\"type\":\"scattergl\"}],\"scattermapbox\":[{\"marker\":{\"colorbar\":{\"outlinewidth\":0,\"ticks\":\"\"}},\"type\":\"scattermapbox\"}],\"scatterpolar\":[{\"marker\":{\"colorbar\":{\"outlinewidth\":0,\"ticks\":\"\"}},\"type\":\"scatterpolar\"}],\"scatterpolargl\":[{\"marker\":{\"colorbar\":{\"outlinewidth\":0,\"ticks\":\"\"}},\"type\":\"scatterpolargl\"}],\"scatterternary\":[{\"marker\":{\"colorbar\":{\"outlinewidth\":0,\"ticks\":\"\"}},\"type\":\"scatterternary\"}],\"surface\":[{\"colorbar\":{\"outlinewidth\":0,\"ticks\":\"\"},\"colorscale\":[[0.0,\"#0d0887\"],[0.1111111111111111,\"#46039f\"],[0.2222222222222222,\"#7201a8\"],[0.3333333333333333,\"#9c179e\"],[0.4444444444444444,\"#bd3786\"],[0.5555555555555556,\"#d8576b\"],[0.6666666666666666,\"#ed7953\"],[0.7777777777777778,\"#fb9f3a\"],[0.8888888888888888,\"#fdca26\"],[1.0,\"#f0f921\"]],\"type\":\"surface\"}],\"table\":[{\"cells\":{\"fill\":{\"color\":\"#EBF0F8\"},\"line\":{\"color\":\"white\"}},\"header\":{\"fill\":{\"color\":\"#C8D4E3\"},\"line\":{\"color\":\"white\"}},\"type\":\"table\"}]},\"layout\":{\"annotationdefaults\":{\"arrowcolor\":\"#2a3f5f\",\"arrowhead\":0,\"arrowwidth\":1},\"autotypenumbers\":\"strict\",\"coloraxis\":{\"colorbar\":{\"outlinewidth\":0,\"ticks\":\"\"}},\"colorscale\":{\"diverging\":[[0,\"#8e0152\"],[0.1,\"#c51b7d\"],[0.2,\"#de77ae\"],[0.3,\"#f1b6da\"],[0.4,\"#fde0ef\"],[0.5,\"#f7f7f7\"],[0.6,\"#e6f5d0\"],[0.7,\"#b8e186\"],[0.8,\"#7fbc41\"],[0.9,\"#4d9221\"],[1,\"#276419\"]],\"sequential\":[[0.0,\"#0d0887\"],[0.1111111111111111,\"#46039f\"],[0.2222222222222222,\"#7201a8\"],[0.3333333333333333,\"#9c179e\"],[0.4444444444444444,\"#bd3786\"],[0.5555555555555556,\"#d8576b\"],[0.6666666666666666,\"#ed7953\"],[0.7777777777777778,\"#fb9f3a\"],[0.8888888888888888,\"#fdca26\"],[1.0,\"#f0f921\"]],\"sequentialminus\":[[0.0,\"#0d0887\"],[0.1111111111111111,\"#46039f\"],[0.2222222222222222,\"#7201a8\"],[0.3333333333333333,\"#9c179e\"],[0.4444444444444444,\"#bd3786\"],[0.5555555555555556,\"#d8576b\"],[0.6666666666666666,\"#ed7953\"],[0.7777777777777778,\"#fb9f3a\"],[0.8888888888888888,\"#fdca26\"],[1.0,\"#f0f921\"]]},\"colorway\":[\"#636efa\",\"#EF553B\",\"#00cc96\",\"#ab63fa\",\"#FFA15A\",\"#19d3f3\",\"#FF6692\",\"#B6E880\",\"#FF97FF\",\"#FECB52\"],\"font\":{\"color\":\"#2a3f5f\"},\"geo\":{\"bgcolor\":\"white\",\"lakecolor\":\"white\",\"landcolor\":\"#E5ECF6\",\"showlakes\":true,\"showland\":true,\"subunitcolor\":\"white\"},\"hoverlabel\":{\"align\":\"left\"},\"hovermode\":\"closest\",\"mapbox\":{\"style\":\"light\"},\"paper_bgcolor\":\"white\",\"plot_bgcolor\":\"#E5ECF6\",\"polar\":{\"angularaxis\":{\"gridcolor\":\"white\",\"linecolor\":\"white\",\"ticks\":\"\"},\"bgcolor\":\"#E5ECF6\",\"radialaxis\":{\"gridcolor\":\"white\",\"linecolor\":\"white\",\"ticks\":\"\"}},\"scene\":{\"xaxis\":{\"backgroundcolor\":\"#E5ECF6\",\"gridcolor\":\"white\",\"gridwidth\":2,\"linecolor\":\"white\",\"showbackground\":true,\"ticks\":\"\",\"zerolinecolor\":\"white\"},\"yaxis\":{\"backgroundcolor\":\"#E5ECF6\",\"gridcolor\":\"white\",\"gridwidth\":2,\"linecolor\":\"white\",\"showbackground\":true,\"ticks\":\"\",\"zerolinecolor\":\"white\"},\"zaxis\":{\"backgroundcolor\":\"#E5ECF6\",\"gridcolor\":\"white\",\"gridwidth\":2,\"linecolor\":\"white\",\"showbackground\":true,\"ticks\":\"\",\"zerolinecolor\":\"white\"}},\"shapedefaults\":{\"line\":{\"color\":\"#2a3f5f\"}},\"ternary\":{\"aaxis\":{\"gridcolor\":\"white\",\"linecolor\":\"white\",\"ticks\":\"\"},\"baxis\":{\"gridcolor\":\"white\",\"linecolor\":\"white\",\"ticks\":\"\"},\"bgcolor\":\"#E5ECF6\",\"caxis\":{\"gridcolor\":\"white\",\"linecolor\":\"white\",\"ticks\":\"\"}},\"title\":{\"x\":0.05},\"xaxis\":{\"automargin\":true,\"gridcolor\":\"white\",\"linecolor\":\"white\",\"ticks\":\"\",\"title\":{\"standoff\":15},\"zerolinecolor\":\"white\",\"zerolinewidth\":2},\"yaxis\":{\"automargin\":true,\"gridcolor\":\"white\",\"linecolor\":\"white\",\"ticks\":\"\",\"title\":{\"standoff\":15},\"zerolinecolor\":\"white\",\"zerolinewidth\":2}}},\"xaxis\":{\"anchor\":\"y\",\"domain\":[0.0,1.0],\"title\":{\"text\":\"Wavelength (nm)\"}},\"yaxis\":{\"anchor\":\"x\",\"domain\":[0.0,1.0],\"title\":{\"text\":\"Reflectance factor\"}},\"legend\":{\"title\":{\"text\":\"Spectra\"},\"tracegroupgap\":0},\"margin\":{\"t\":60},\"font\":{\"family\":\"Droid Serif\",\"size\":22,\"color\":\"Black\"},\"autosize\":false,\"width\":1200,\"height\":600,\"title\":{\"text\":\"BEK 1858 P, red dots\"}},                        {\"responsive\": true}                    ).then(function(){\n",
       "                            \n",
       "var gd = document.getElementById('2303d235-79fb-47fc-b105-b71fc2ab1338');\n",
       "var x = new MutationObserver(function (mutations, observer) {{\n",
       "        var display = window.getComputedStyle(gd).display;\n",
       "        if (!display || display === 'none') {{\n",
       "            console.log([gd, 'removed!']);\n",
       "            Plotly.purge(gd);\n",
       "            observer.disconnect();\n",
       "        }}\n",
       "}});\n",
       "\n",
       "// Listen for the removal of the full notebook cells\n",
       "var notebookContainer = gd.closest('#notebook-container');\n",
       "if (notebookContainer) {{\n",
       "    x.observe(notebookContainer, {childList: true});\n",
       "}}\n",
       "\n",
       "// Listen for the clearing of the current output cell\n",
       "var outputEl = gd.closest('.output');\n",
       "if (outputEl) {{\n",
       "    x.observe(outputEl, {childList: true});\n",
       "}}\n",
       "\n",
       "                        })                };                });            </script>        </div>"
      ]
     },
     "metadata": {},
     "output_type": "display_data"
    }
   ],
   "source": [
    "fig = px.line(df_RS_reds.sort_values(by=['spectra','groups','wl']), x ='wl',y='sp', line_group='groups', color='spectra') # \n",
    "\n",
    "fig.update_layout(\n",
    "    autosize=False,\n",
    "    width=1200,\n",
    "    height=600,\n",
    "    title=\"BEK 1858 P, red dots\",\n",
    "    xaxis_title=\"Wavelength (nm)\",\n",
    "    yaxis_title=\"Reflectance factor\",\n",
    "    legend_title=\"Spectra\",\n",
    "    font=dict(\n",
    "        family=\"Droid Serif\",\n",
    "        size=22,\n",
    "        color=\"Black\"\n",
    "    )\n",
    ")\n",
    "\n",
    "fig.show()"
   ]
  },
  {
   "cell_type": "markdown",
   "id": "eaa0dd3c-8f49-4951-bb3a-f0626e3ffb23",
   "metadata": {},
   "source": [
    "## Pairwise distance "
   ]
  },
  {
   "cell_type": "code",
   "execution_count": 21,
   "id": "400e4f52-356a-4d37-ab10-550add874911",
   "metadata": {
    "jupyter": {
     "source_hidden": true
    },
    "tags": []
   },
   "outputs": [
    {
     "data": {
      "image/png": "[encoded data removed]",
      "text/plain": [
       "<Figure size 1440x720 with 3 Axes>"
      ]
     },
     "metadata": {
      "needs_background": "light"
     },
     "output_type": "display_data"
    }
   ],
   "source": [
    "df_grps = pd.DataFrame(df_RS_reds.groups.unique())\n",
    "spectra = (df_RS_reds.sp.values.reshape(11, -1))\n",
    "spderiv = np.diff(spectra, axis = 1)\n",
    "\n",
    "reordered_grps = [0,7, 8, 9, 10, 1, 2, 3, 4, 5, 6]\n",
    "reordered_df = df_grps.iloc[reordered_grps,:]\n",
    "reordered_sp = spectra[reordered_grps, :]\n",
    "reordered_spderiv = spderiv[reordered_grps, :]\n",
    "\n",
    "fig, [ax1,ax2,ax3] = plt.subplots(1,3, figsize=(20,10))\n",
    "fs = 22\n",
    "\n",
    "ax1.imshow(pairwise_distances(spectra, metric='cosine'))\n",
    "ax2.imshow(pairwise_distances(reordered_sp, metric='cosine'))\n",
    "ax3.imshow(pairwise_distances(reordered_spderiv, metric='cosine'))\n",
    "\n",
    "ax1.set_xticks(np.arange(0,11))\n",
    "ax1.set_xticklabels(df_grps.iloc[:,0].values, fontsize=fs)\n",
    "\n",
    "ax1.set_yticks(np.arange(0,11))\n",
    "ax1.set_yticklabels(df_grps.iloc[:,0].values, fontsize=fs)\n",
    "\n",
    "ax1.set_xlabel('Groups', fontsize=fs)\n",
    "ax1.set_ylabel('Groups', fontsize=fs)\n",
    "\n",
    "ax1.set_title('Non clustered groups', fontsize=fs+2)\n",
    "\n",
    "\n",
    "\n",
    "ax2.set_xticks(np.arange(0,11))\n",
    "ax2.set_xticklabels(reordered_df.iloc[:,0].values, fontsize=fs)\n",
    "\n",
    "ax2.set_yticks(np.arange(0,11))\n",
    "ax2.set_yticklabels(reordered_df.iloc[:,0].values, fontsize=fs)\n",
    "\n",
    "ax2.set_xlabel('Groups', fontsize=fs)\n",
    "ax2.set_ylabel('Groups', fontsize=fs)\n",
    "\n",
    "ax2.set_title('Clustered groups', fontsize=fs+2)\n",
    "\n",
    "\n",
    "ax3.set_xticks(np.arange(0,11))\n",
    "ax3.set_xticklabels(reordered_df.iloc[:,0].values, fontsize=fs)\n",
    "\n",
    "ax3.set_yticks(np.arange(0,11))\n",
    "ax3.set_yticklabels(reordered_df.iloc[:,0].values, fontsize=fs)\n",
    "\n",
    "ax3.set_xlabel('Groups', fontsize=fs)\n",
    "ax3.set_ylabel('Groups', fontsize=fs)\n",
    "\n",
    "ax3.set_title('1st derivative - Clustered groups', fontsize=fs+2)\n",
    "\n",
    "\n",
    "ax2.annotate('D', xy=(0.9,1.1), color='white', weight='bold', fontsize=fs)\n",
    "ax2.annotate('B', xy=(6.85,7.15), color='white', weight='bold', fontsize=fs)\n",
    "ax2.annotate('C', xy=(9.3,9.7), color='white', weight='bold', fontsize=fs)\n",
    "ax2.annotate('A', xy=(3.8,4.1), color='white', weight='bold', fontsize=fs)\n",
    "\n",
    "ax3.annotate('D', xy=(0.9,1.1), color='white', weight='bold', fontsize=fs)\n",
    "ax3.annotate('B', xy=(6.85,7.15), color='white', weight='bold', fontsize=fs)\n",
    "ax3.annotate('C', xy=(9.3,9.7), color='white', weight='bold', fontsize=fs)\n",
    "ax3.annotate('A', xy=(3.8,4.1), color='white', weight='bold', fontsize=fs)\n",
    "\n",
    "plt.tight_layout()\n",
    "plt.show()"
   ]
  },
  {
   "cell_type": "code",
   "execution_count": null,
   "id": "37ec72d6-8222-4819-b311-b8b5638b2096",
   "metadata": {},
   "outputs": [],
   "source": []
  },
  {
   "cell_type": "code",
   "execution_count": null,
   "id": "6ee48dda-099c-4ac5-919d-f8bbac8e6ab5",
   "metadata": {},
   "outputs": [],
   "source": []
  },
  {
   "cell_type": "code",
   "execution_count": null,
   "id": "331dac0a-43de-406b-8991-a1073a5179b6",
   "metadata": {},
   "outputs": [],
   "source": []
  },
  {
   "cell_type": "markdown",
   "id": "9fd948b6-a26f-4412-9431-f6743d6ff6c1",
   "metadata": {
    "tags": []
   },
   "source": [
    "# Reproducibility - Group 1 "
   ]
  },
  {
   "cell_type": "code",
   "execution_count": 23,
   "id": "180c3466-814d-4a02-b3d7-34e7d8860460",
   "metadata": {
    "tags": []
   },
   "outputs": [
    {
     "ename": "NameError",
     "evalue": "name 'class_interim' is not defined",
     "output_type": "error",
     "traceback": [
      "\u001b[0;31m---------------------------------------------------------------------------\u001b[0m",
      "\u001b[0;31mNameError\u001b[0m                                 Traceback (most recent call last)",
      "Input \u001b[0;32mIn [23]\u001b[0m, in \u001b[0;36m<cell line: 8>\u001b[0;34m()\u001b[0m\n\u001b[1;32m      5\u001b[0m project \u001b[38;5;241m=\u001b[39m \u001b[38;5;124m'\u001b[39m\u001b[38;5;124m2021-141\u001b[39m\u001b[38;5;124m'\u001b[39m\n\u001b[1;32m      6\u001b[0m Ids \u001b[38;5;241m=\u001b[39m[\u001b[38;5;124m'\u001b[39m\u001b[38;5;124mBEK1859P-r01\u001b[39m\u001b[38;5;124m'\u001b[39m,\u001b[38;5;124m'\u001b[39m\u001b[38;5;124mBEK1859P-r02\u001b[39m\u001b[38;5;124m'\u001b[39m,\u001b[38;5;124m'\u001b[39m\u001b[38;5;124mBEK1859P-r03\u001b[39m\u001b[38;5;124m'\u001b[39m,\u001b[38;5;124m'\u001b[39m\u001b[38;5;124mBEK1859P-r04\u001b[39m\u001b[38;5;124m'\u001b[39m]\n\u001b[0;32m----> 8\u001b[0m Lab_values \u001b[38;5;241m=\u001b[39m [class_interim\u001b[38;5;241m.\u001b[39mitm(Id, project)\u001b[38;5;241m.\u001b[39mget_data(data\u001b[38;5;241m=\u001b[39m\u001b[38;5;124m'\u001b[39m\u001b[38;5;124mLab\u001b[39m\u001b[38;5;124m'\u001b[39m,show_plot\u001b[38;5;241m=\u001b[39m\u001b[38;5;28;01mFalse\u001b[39;00m)\u001b[38;5;241m.\u001b[39mloc[[\u001b[38;5;124m'\u001b[39m\u001b[38;5;124mL*\u001b[39m\u001b[38;5;124m'\u001b[39m,\u001b[38;5;124m'\u001b[39m\u001b[38;5;124ma*\u001b[39m\u001b[38;5;124m'\u001b[39m,\u001b[38;5;124m'\u001b[39m\u001b[38;5;124mb*\u001b[39m\u001b[38;5;124m'\u001b[39m]][\u001b[38;5;124m'\u001b[39m\u001b[38;5;124mvalue1\u001b[39m\u001b[38;5;124m'\u001b[39m]\u001b[38;5;241m.\u001b[39mastype(\u001b[38;5;28mfloat\u001b[39m)\u001b[38;5;241m.\u001b[39mvalues \u001b[38;5;28;01mfor\u001b[39;00m Id \u001b[38;5;129;01min\u001b[39;00m Ids]\n\u001b[1;32m      9\u001b[0m dE00s \u001b[38;5;241m=\u001b[39m []\n\u001b[1;32m     11\u001b[0m \u001b[38;5;28;01mfor\u001b[39;00m i \u001b[38;5;129;01min\u001b[39;00m \u001b[38;5;28mrange\u001b[39m(\u001b[38;5;28mlen\u001b[39m(Lab_values)):\n",
      "Input \u001b[0;32mIn [23]\u001b[0m, in \u001b[0;36m<listcomp>\u001b[0;34m(.0)\u001b[0m\n\u001b[1;32m      5\u001b[0m project \u001b[38;5;241m=\u001b[39m \u001b[38;5;124m'\u001b[39m\u001b[38;5;124m2021-141\u001b[39m\u001b[38;5;124m'\u001b[39m\n\u001b[1;32m      6\u001b[0m Ids \u001b[38;5;241m=\u001b[39m[\u001b[38;5;124m'\u001b[39m\u001b[38;5;124mBEK1859P-r01\u001b[39m\u001b[38;5;124m'\u001b[39m,\u001b[38;5;124m'\u001b[39m\u001b[38;5;124mBEK1859P-r02\u001b[39m\u001b[38;5;124m'\u001b[39m,\u001b[38;5;124m'\u001b[39m\u001b[38;5;124mBEK1859P-r03\u001b[39m\u001b[38;5;124m'\u001b[39m,\u001b[38;5;124m'\u001b[39m\u001b[38;5;124mBEK1859P-r04\u001b[39m\u001b[38;5;124m'\u001b[39m]\n\u001b[0;32m----> 8\u001b[0m Lab_values \u001b[38;5;241m=\u001b[39m [\u001b[43mclass_interim\u001b[49m\u001b[38;5;241m.\u001b[39mitm(Id, project)\u001b[38;5;241m.\u001b[39mget_data(data\u001b[38;5;241m=\u001b[39m\u001b[38;5;124m'\u001b[39m\u001b[38;5;124mLab\u001b[39m\u001b[38;5;124m'\u001b[39m,show_plot\u001b[38;5;241m=\u001b[39m\u001b[38;5;28;01mFalse\u001b[39;00m)\u001b[38;5;241m.\u001b[39mloc[[\u001b[38;5;124m'\u001b[39m\u001b[38;5;124mL*\u001b[39m\u001b[38;5;124m'\u001b[39m,\u001b[38;5;124m'\u001b[39m\u001b[38;5;124ma*\u001b[39m\u001b[38;5;124m'\u001b[39m,\u001b[38;5;124m'\u001b[39m\u001b[38;5;124mb*\u001b[39m\u001b[38;5;124m'\u001b[39m]][\u001b[38;5;124m'\u001b[39m\u001b[38;5;124mvalue1\u001b[39m\u001b[38;5;124m'\u001b[39m]\u001b[38;5;241m.\u001b[39mastype(\u001b[38;5;28mfloat\u001b[39m)\u001b[38;5;241m.\u001b[39mvalues \u001b[38;5;28;01mfor\u001b[39;00m Id \u001b[38;5;129;01min\u001b[39;00m Ids]\n\u001b[1;32m      9\u001b[0m dE00s \u001b[38;5;241m=\u001b[39m []\n\u001b[1;32m     11\u001b[0m \u001b[38;5;28;01mfor\u001b[39;00m i \u001b[38;5;129;01min\u001b[39;00m \u001b[38;5;28mrange\u001b[39m(\u001b[38;5;28mlen\u001b[39m(Lab_values)):\n",
      "\u001b[0;31mNameError\u001b[0m: name 'class_interim' is not defined"
     ]
    }
   ],
   "source": [
    "file_mean = sorted(glob('*group01*'))[0]\n",
    "df_mean = pd.read_csv(file_mean, index_col='parameter')\n",
    "Lab_mean = df_mean.loc[['L*','a*','b*']]['value_mean'].astype(float).values\n",
    "\n",
    "project = '2021-141'\n",
    "Ids =['BEK1859P-r01','BEK1859P-r02','BEK1859P-r03','BEK1859P-r04']\n",
    "\n",
    "Lab_values = [class_interim.itm(Id, project).get_data(data='Lab',show_plot=False).loc[['L*','a*','b*']]['value1'].astype(float).values for Id in Ids]\n",
    "dE00s = []\n",
    "\n",
    "for i in range(len(Lab_values)):\n",
    "    Lab = Lab_values[i]\n",
    "    dE00 = colour.delta_E(Lab_mean,Lab)\n",
    "    dE00s.append(dE00)\n",
    "    \n",
    "MCDM = np.round(np.mean(dE00s),2)\n",
    "\n",
    "print(f'The mean colour difference to the mean (MCDM) has a value of {MCDM} dE00.')\n",
    "print(' ')\n",
    "print('This means that colour differences smaller the 0.33 cannot be interpretated as changes within materials.')"
   ]
  },
  {
   "cell_type": "markdown",
   "id": "3cd048ed-3278-4f24-a624-5eb81705ca1a",
   "metadata": {},
   "source": [
    "# Repeatability - Group 2 "
   ]
  },
  {
   "cell_type": "code",
   "execution_count": null,
   "id": "01c98c76-9c2e-497a-809f-1ff313cf5aa6",
   "metadata": {
    "tags": []
   },
   "outputs": [],
   "source": [
    "file_mean = sorted(glob('*group02*'))[0]\n",
    "df_mean = pd.read_csv(file_mean, index_col='parameter')\n",
    "Lab_mean = df_mean.loc[['L*','a*','b*']]['value_mean'].astype(float).values\n",
    "\n",
    "project = '2021-141'\n",
    "Ids =['BEK1859P-r05','BEK1859P-r06','BEK1859P-r07','BEK1859P-r08']\n",
    "\n",
    "Lab_values = [class_interim.itm(Id, project).get_data(data='Lab',show_plot=False).loc[['L*','a*','b*']]['value1'].astype(float).values for Id in Ids]\n",
    "dE00s = []\n",
    "\n",
    "for i in range(len(Lab_values)):\n",
    "    Lab = Lab_values[i]\n",
    "    dE00 = colour.delta_E(Lab_mean,Lab)\n",
    "    dE00s.append(dE00)\n",
    "    \n",
    "MCDM = np.round(np.mean(dE00s),2)\n",
    "\n",
    "print(f'The MCDM for the repeatability is {MCDM} dE00.')\n",
    "print(' ')\n",
    "print('This is a bit less interesting in our case. Reproducibility is more meaningful here.')"
   ]
  },
  {
   "cell_type": "code",
   "execution_count": null,
   "id": "0a711867",
   "metadata": {},
   "outputs": [],
   "source": []
  },
  {
   "cell_type": "code",
   "execution_count": null,
   "id": "950bc583",
   "metadata": {},
   "outputs": [],
   "source": []
  },
  {
   "cell_type": "markdown",
   "id": "2d2fdc0e",
   "metadata": {},
   "source": [
    "# Groups - CIELAB "
   ]
  },
  {
   "cell_type": "code",
   "execution_count": null,
   "id": "2a9f5e72",
   "metadata": {},
   "outputs": [],
   "source": [
    "df_RS"
   ]
  },
  {
   "cell_type": "code",
   "execution_count": null,
   "id": "587f30a5",
   "metadata": {},
   "outputs": [],
   "source": []
  },
  {
   "cell_type": "code",
   "execution_count": 24,
   "id": "84816a5f",
   "metadata": {},
   "outputs": [
    {
     "data": {
      "image/png": "[encoded data removed]",
      "text/plain": [
       "<Figure size 720x720 with 4 Axes>"
      ]
     },
     "metadata": {
      "needs_background": "light"
     },
     "output_type": "display_data"
    }
   ],
   "source": [
    "files = sorted(glob('*txt*'))\n",
    "fmt = {'A':'o', 'B':'X', 'C':'s', 'D':'>'}\n",
    "\n",
    "\n",
    "fig, ax = plt.subplots(2,2, figsize=(10, 10), gridspec_kw=dict(width_ratios=[1, 2], height_ratios=[2, 1]))\n",
    "\n",
    "fs = 20\n",
    "cps = 6     # capsize values\n",
    "Lb = ax[0,0]\n",
    "ab = ax[0,1]\n",
    "AB = ax[1,0]\n",
    "aL = ax[1,1]\n",
    "\n",
    "df_Lab = pd.DataFrame()\n",
    "\n",
    "for file in files:\n",
    "    df = pd.read_csv(file, index_col='parameter')\n",
    "    color = df.loc['color']['value_mean']\n",
    "    \n",
    "    if color == 'red':\n",
    "    \n",
    "        group = df.loc['group']['value_mean'][-2:]\n",
    "        patroon = df_groups.loc[group]['patroons']\n",
    "        spectrum = df_groups.loc[group]['spectra']        \n",
    "               \n",
    "        data_Lab = df.loc[['L*','a*','b*']].astype(float)\n",
    "        \n",
    "        L_mean = data_Lab.loc['L*']['value_mean']\n",
    "        L_std = data_Lab.loc['L*']['value_std']\n",
    "        \n",
    "        a_mean = data_Lab.loc['a*']['value_mean']\n",
    "        a_std = data_Lab.loc['a*']['value_std']\n",
    "        \n",
    "        b_mean = data_Lab.loc['b*']['value_mean']\n",
    "        b_std = data_Lab.loc['b*']['value_std']\n",
    "        \n",
    "        df_data = pd.DataFrame(data = {'groups':group,'spectra':spectrum, 'wl':wl.values, 'L_mean':L_mean, 'a_mean':a_mean, 'b_mean':b_mean})\n",
    "        df_Lab = pd.concat([df_Lab,df_data], axis=0)\n",
    "        \n",
    "        ab.errorbar(a_mean,b_mean, xerr=a_std, yerr=b_std,fmt=fmt[spectrum], capsize=5, ms=10, mec = 'none', mfc='k', ecolor='k')\n",
    "        Lb.errorbar(L_mean,b_mean, xerr=L_std, yerr=b_std,fmt=fmt[spectrum], capsize=5, ms=10, mec = 'none', mfc='k', ecolor='k')\n",
    "        aL.errorbar(a_mean,L_mean, xerr=a_std, yerr=L_std,fmt=fmt[spectrum], capsize=5, ms=10, mec = 'none', mfc='k', ecolor='k')\n",
    "        \n",
    "\n",
    "\n",
    "#ax.set_xlim(400,740)\n",
    "ab.xaxis.set_tick_params(labelsize=fs)\n",
    "ab.yaxis.set_tick_params(labelsize=fs)\n",
    "Lb.xaxis.set_tick_params(labelsize=fs)\n",
    "Lb.yaxis.set_tick_params(labelsize=fs)\n",
    "aL.xaxis.set_tick_params(labelsize=fs)\n",
    "aL.yaxis.set_tick_params(labelsize=fs)\n",
    "\n",
    "\n",
    "Lb.set_xlabel(\"CIE $L^*$\", fontsize=fs)\n",
    "Lb.set_ylabel(\"CIE $b^*$\", fontsize=fs)\n",
    "ab.set_xlabel(\"CIE $a^*$\", fontsize=fs)\n",
    "ab.set_ylabel(\"CIE $b^*$\", fontsize=fs)\n",
    "aL.set_xlabel(\"CIE $a^*$\", fontsize=fs)\n",
    "aL.set_ylabel(\"CIE $L^*$\", fontsize=fs) \n",
    "\n",
    "\n",
    "plt.tight_layout()\n",
    "plt.show()"
   ]
  },
  {
   "cell_type": "code",
   "execution_count": 28,
   "id": "be4284cd",
   "metadata": {},
   "outputs": [
    {
     "data": {
      "text/html": [
       "<div>\n",
       "<style scoped>\n",
       "    .dataframe tbody tr th:only-of-type {\n",
       "        vertical-align: middle;\n",
       "    }\n",
       "\n",
       "    .dataframe tbody tr th {\n",
       "        vertical-align: top;\n",
       "    }\n",
       "\n",
       "    .dataframe thead th {\n",
       "        text-align: right;\n",
       "    }\n",
       "</style>\n",
       "<table border=\"1\" class=\"dataframe\">\n",
       "  <thead>\n",
       "    <tr style=\"text-align: right;\">\n",
       "      <th></th>\n",
       "      <th>groups</th>\n",
       "      <th>spectra</th>\n",
       "      <th>wl</th>\n",
       "      <th>L_mean</th>\n",
       "      <th>a_mean</th>\n",
       "      <th>b_mean</th>\n",
       "    </tr>\n",
       "  </thead>\n",
       "  <tbody>\n",
       "    <tr>\n",
       "      <th>0</th>\n",
       "      <td>01</td>\n",
       "      <td>D</td>\n",
       "      <td>400.0</td>\n",
       "      <td>42.678</td>\n",
       "      <td>53.77</td>\n",
       "      <td>25.478</td>\n",
       "    </tr>\n",
       "    <tr>\n",
       "      <th>1</th>\n",
       "      <td>01</td>\n",
       "      <td>D</td>\n",
       "      <td>410.0</td>\n",
       "      <td>42.678</td>\n",
       "      <td>53.77</td>\n",
       "      <td>25.478</td>\n",
       "    </tr>\n",
       "    <tr>\n",
       "      <th>2</th>\n",
       "      <td>01</td>\n",
       "      <td>D</td>\n",
       "      <td>420.0</td>\n",
       "      <td>42.678</td>\n",
       "      <td>53.77</td>\n",
       "      <td>25.478</td>\n",
       "    </tr>\n",
       "    <tr>\n",
       "      <th>3</th>\n",
       "      <td>01</td>\n",
       "      <td>D</td>\n",
       "      <td>430.0</td>\n",
       "      <td>42.678</td>\n",
       "      <td>53.77</td>\n",
       "      <td>25.478</td>\n",
       "    </tr>\n",
       "    <tr>\n",
       "      <th>4</th>\n",
       "      <td>01</td>\n",
       "      <td>D</td>\n",
       "      <td>440.0</td>\n",
       "      <td>42.678</td>\n",
       "      <td>53.77</td>\n",
       "      <td>25.478</td>\n",
       "    </tr>\n",
       "    <tr>\n",
       "      <th>...</th>\n",
       "      <td>...</td>\n",
       "      <td>...</td>\n",
       "      <td>...</td>\n",
       "      <td>...</td>\n",
       "      <td>...</td>\n",
       "      <td>...</td>\n",
       "    </tr>\n",
       "    <tr>\n",
       "      <th>30</th>\n",
       "      <td>16</td>\n",
       "      <td>A</td>\n",
       "      <td>700.0</td>\n",
       "      <td>40.262</td>\n",
       "      <td>50.47</td>\n",
       "      <td>22.085</td>\n",
       "    </tr>\n",
       "    <tr>\n",
       "      <th>31</th>\n",
       "      <td>16</td>\n",
       "      <td>A</td>\n",
       "      <td>710.0</td>\n",
       "      <td>40.262</td>\n",
       "      <td>50.47</td>\n",
       "      <td>22.085</td>\n",
       "    </tr>\n",
       "    <tr>\n",
       "      <th>32</th>\n",
       "      <td>16</td>\n",
       "      <td>A</td>\n",
       "      <td>720.0</td>\n",
       "      <td>40.262</td>\n",
       "      <td>50.47</td>\n",
       "      <td>22.085</td>\n",
       "    </tr>\n",
       "    <tr>\n",
       "      <th>33</th>\n",
       "      <td>16</td>\n",
       "      <td>A</td>\n",
       "      <td>730.0</td>\n",
       "      <td>40.262</td>\n",
       "      <td>50.47</td>\n",
       "      <td>22.085</td>\n",
       "    </tr>\n",
       "    <tr>\n",
       "      <th>34</th>\n",
       "      <td>16</td>\n",
       "      <td>A</td>\n",
       "      <td>740.0</td>\n",
       "      <td>40.262</td>\n",
       "      <td>50.47</td>\n",
       "      <td>22.085</td>\n",
       "    </tr>\n",
       "  </tbody>\n",
       "</table>\n",
       "<p>385 rows × 6 columns</p>\n",
       "</div>"
      ],
      "text/plain": [
       "   groups spectra     wl  L_mean  a_mean  b_mean\n",
       "0      01       D  400.0  42.678   53.77  25.478\n",
       "1      01       D  410.0  42.678   53.77  25.478\n",
       "2      01       D  420.0  42.678   53.77  25.478\n",
       "3      01       D  430.0  42.678   53.77  25.478\n",
       "4      01       D  440.0  42.678   53.77  25.478\n",
       "..    ...     ...    ...     ...     ...     ...\n",
       "30     16       A  700.0  40.262   50.47  22.085\n",
       "31     16       A  710.0  40.262   50.47  22.085\n",
       "32     16       A  720.0  40.262   50.47  22.085\n",
       "33     16       A  730.0  40.262   50.47  22.085\n",
       "34     16       A  740.0  40.262   50.47  22.085\n",
       "\n",
       "[385 rows x 6 columns]"
      ]
     },
     "execution_count": 28,
     "metadata": {},
     "output_type": "execute_result"
    }
   ],
   "source": [
    "df_Lab"
   ]
  },
  {
   "cell_type": "code",
   "execution_count": null,
   "id": "f0af4b82-ca60-4a46-bd67-2480e5b20063",
   "metadata": {},
   "outputs": [],
   "source": []
  },
  {
   "cell_type": "code",
   "execution_count": null,
   "id": "adc133d0-ebfa-4b6a-9387-824ff008f5fd",
   "metadata": {},
   "outputs": [],
   "source": []
  },
  {
   "cell_type": "code",
   "execution_count": null,
   "id": "33d2a00a-8c80-41a2-a778-1e19e4cd6ea0",
   "metadata": {},
   "outputs": [],
   "source": []
  },
  {
   "cell_type": "code",
   "execution_count": null,
   "id": "88d17044-529c-4735-b7a3-f62407580b8f",
   "metadata": {},
   "outputs": [],
   "source": []
  },
  {
   "cell_type": "code",
   "execution_count": null,
   "id": "b1b47028-749f-43e4-a266-75187b7f9bb7",
   "metadata": {},
   "outputs": [],
   "source": []
  },
  {
   "cell_type": "code",
   "execution_count": null,
   "id": "adb046d8-864e-4e19-a39f-b0b0b155fce1",
   "metadata": {},
   "outputs": [],
   "source": []
  },
  {
   "cell_type": "code",
   "execution_count": null,
   "id": "adcc97a0-d580-4104-beb8-f28ab6a355ea",
   "metadata": {},
   "outputs": [],
   "source": []
  }
 ],
 "metadata": {
  "kernelspec": {
   "display_name": "Python 3 (ipykernel)",
   "language": "python",
   "name": "python3"
  },
  "language_info": {
   "codemirror_mode": {
    "name": "ipython",
    "version": 3
   },
   "file_extension": ".py",
   "mimetype": "text/x-python",
   "name": "python",
   "nbconvert_exporter": "python",
   "pygments_lexer": "ipython3",
   "version": "3.9.12"
  },
  "latex_envs": {
   "LaTeX_envs_menu_present": true,
   "autoclose": false,
   "autocomplete": true,
   "bibliofile": "biblio.bib",
   "cite_by": "apalike",
   "current_citInitial": 1,
   "eqLabelWithNumbers": true,
   "eqNumInitial": 1,
   "hotkeys": {
    "equation": "Ctrl-E",
    "itemize": "Ctrl-I"
   },
   "labels_anchors": false,
   "latex_user_defs": false,
   "report_style_numbering": false,
   "user_envs_cfg": false
  },
  "toc": {
   "base_numbering": 1,
   "nav_menu": {},
   "number_sections": true,
   "sideBar": true,
   "skip_h1_title": false,
   "title_cell": "Table of Contents",
   "title_sidebar": "Contents",
   "toc_cell": false,
   "toc_position": {
    "height": "calc(100% - 180px)",
    "left": "10px",
    "top": "150px",
    "width": "221.2px"
   },
   "toc_section_display": true,
   "toc_window_display": true
  }
 },
 "nbformat": 4,
 "nbformat_minor": 5
}
